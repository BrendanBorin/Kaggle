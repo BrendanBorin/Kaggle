{
 "cells": [
  {
   "cell_type": "code",
   "execution_count": 5,
   "metadata": {
    "collapsed": true
   },
   "outputs": [],
   "source": [
    "import numpy as np\n",
    "import pandas as pd\n",
    "from sklearn.neighbors import KNeighborsClassifier\n",
    "from sklearn.preprocessing import LabelEncoder\n",
    "from sklearn.cross_validation import StratifiedShuffleSplit\n",
    "import operator\n",
    "from scipy.sparse import csr_matrix\n",
    "from sklearn.metrics import log_loss"
   ]
  },
  {
   "cell_type": "code",
   "execution_count": 2,
   "metadata": {
    "collapsed": true
   },
   "outputs": [],
   "source": [
    "train = pd.read_csv('trainExt.csv')\n",
    "test = pd.read_csv('testExt.csv')"
   ]
  },
  {
   "cell_type": "code",
   "execution_count": 3,
   "metadata": {
    "collapsed": true
   },
   "outputs": [],
   "source": [
    "loader = np.load('Xtrainleak.npz') \n",
    "Xtrain = csr_matrix(( loader['data'], loader['indices'], loader['indptr']), shape = loader['shape'])\n",
    "loader = np.load('Xtestleak.npz')\n",
    "Xtest = csr_matrix(( loader['data'], loader['indices'], loader['indptr']), shape = loader['shape'])"
   ]
  },
  {
   "cell_type": "code",
   "execution_count": 4,
   "metadata": {
    "collapsed": true
   },
   "outputs": [],
   "source": [
    "le = LabelEncoder()\n",
    "le.fit(['F23-', 'F24-26','F27-28','F29-32', 'F33-42', 'F43+', 'M22-', 'M23-26', 'M27-28', 'M29-31', 'M32-38', 'M39+'])\n",
    "labels = le.transform(train.group)\n",
    "train.drop(['device_id', 'gender', 'age', 'group'], axis=1, inplace=True)\n",
    "test.drop(['device_id'], axis=1, inplace=True)"
   ]
  },
  {
   "cell_type": "code",
   "execution_count": null,
   "metadata": {
    "collapsed": false
   },
   "outputs": [],
   "source": [
    "split = StratifiedShuffleSplit(labels, n_iter=3, test_size=0.1, random_state=1)\n",
    "\n",
    "best_rounds = []\n",
    "for x, y in split:\n",
    "    knn = KNeighborsClassifier(n_neighbors=5, p=1)\n",
    "    knn.fit(Xtrain[x], labels[x])\n",
    "    pred = knn.predict_proba(Xtrain[y])\n",
    "    print('logloss:', log_loss(labels[y], pred))"
   ]
  },
  {
   "cell_type": "code",
   "execution_count": null,
   "metadata": {
    "collapsed": true
   },
   "outputs": [],
   "source": []
  }
 ],
 "metadata": {
  "anaconda-cloud": {},
  "kernelspec": {
   "display_name": "Python [Root]",
   "language": "python",
   "name": "Python [Root]"
  },
  "language_info": {
   "codemirror_mode": {
    "name": "ipython",
    "version": 3
   },
   "file_extension": ".py",
   "mimetype": "text/x-python",
   "name": "python",
   "nbconvert_exporter": "python",
   "pygments_lexer": "ipython3",
   "version": "3.5.2"
  }
 },
 "nbformat": 4,
 "nbformat_minor": 0
}
