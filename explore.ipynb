{
 "cells": [
  {
   "cell_type": "code",
   "execution_count": 1,
   "metadata": {
    "collapsed": false
   },
   "outputs": [],
   "source": [
    "%matplotlib inline\n",
    "import numpy as np\n",
    "import pandas as pd\n",
    "import matplotlib.pyplot as plt"
   ]
  },
  {
   "cell_type": "code",
   "execution_count": 2,
   "metadata": {
    "collapsed": false
   },
   "outputs": [],
   "source": [
    "train = pd.read_csv('gender_age_train.csv')\n",
    "test = pd.read_csv('gender_age_test.csv')\n",
    "app_events = pd.read_csv('app_events.csv')\n",
    "app_labels = pd.read_csv('app_labels.csv')\n",
    "events = pd.read_csv('events.csv', parse_dates=['timestamp'])\n",
    "categories = pd.read_csv('label_categories.csv')\n",
    "phone = pd.read_csv('phone_brand_device_model.csv')"
   ]
  },
  {
   "cell_type": "code",
   "execution_count": 4,
   "metadata": {
    "collapsed": false
   },
   "outputs": [
    {
     "name": "stdout",
     "output_type": "stream",
     "text": [
      "<class 'pandas.core.frame.DataFrame'>\n",
      "RangeIndex: 74645 entries, 0 to 74644\n",
      "Data columns (total 4 columns):\n",
      "device_id    74645 non-null int64\n",
      "gender       74645 non-null object\n",
      "age          74645 non-null int64\n",
      "group        74645 non-null object\n",
      "dtypes: int64(2), object(2)\n",
      "memory usage: 2.3+ MB\n"
     ]
    }
   ],
   "source": [
    "train.info()"
   ]
  },
  {
   "cell_type": "code",
   "execution_count": 13,
   "metadata": {
    "collapsed": false
   },
   "outputs": [
    {
     "data": {
      "text/html": [
       "<div>\n",
       "<table border=\"1\" class=\"dataframe\">\n",
       "  <thead>\n",
       "    <tr style=\"text-align: right;\">\n",
       "      <th></th>\n",
       "      <th>device_id</th>\n",
       "      <th>gender</th>\n",
       "      <th>age</th>\n",
       "      <th>group</th>\n",
       "    </tr>\n",
       "  </thead>\n",
       "  <tbody>\n",
       "    <tr>\n",
       "      <th>0</th>\n",
       "      <td>-8076087639492063270</td>\n",
       "      <td>M</td>\n",
       "      <td>35</td>\n",
       "      <td>M32-38</td>\n",
       "    </tr>\n",
       "    <tr>\n",
       "      <th>1</th>\n",
       "      <td>-2897161552818060146</td>\n",
       "      <td>M</td>\n",
       "      <td>35</td>\n",
       "      <td>M32-38</td>\n",
       "    </tr>\n",
       "    <tr>\n",
       "      <th>2</th>\n",
       "      <td>-8260683887967679142</td>\n",
       "      <td>M</td>\n",
       "      <td>35</td>\n",
       "      <td>M32-38</td>\n",
       "    </tr>\n",
       "    <tr>\n",
       "      <th>3</th>\n",
       "      <td>-4938849341048082022</td>\n",
       "      <td>M</td>\n",
       "      <td>30</td>\n",
       "      <td>M29-31</td>\n",
       "    </tr>\n",
       "    <tr>\n",
       "      <th>4</th>\n",
       "      <td>245133531816851882</td>\n",
       "      <td>M</td>\n",
       "      <td>30</td>\n",
       "      <td>M29-31</td>\n",
       "    </tr>\n",
       "    <tr>\n",
       "      <th>5</th>\n",
       "      <td>-1297074871525174196</td>\n",
       "      <td>F</td>\n",
       "      <td>24</td>\n",
       "      <td>F24-26</td>\n",
       "    </tr>\n",
       "    <tr>\n",
       "      <th>6</th>\n",
       "      <td>236877999787307864</td>\n",
       "      <td>M</td>\n",
       "      <td>36</td>\n",
       "      <td>M32-38</td>\n",
       "    </tr>\n",
       "    <tr>\n",
       "      <th>7</th>\n",
       "      <td>-8098239495777311881</td>\n",
       "      <td>M</td>\n",
       "      <td>38</td>\n",
       "      <td>M32-38</td>\n",
       "    </tr>\n",
       "    <tr>\n",
       "      <th>8</th>\n",
       "      <td>176515041953473526</td>\n",
       "      <td>M</td>\n",
       "      <td>33</td>\n",
       "      <td>M32-38</td>\n",
       "    </tr>\n",
       "    <tr>\n",
       "      <th>9</th>\n",
       "      <td>1596610250680140042</td>\n",
       "      <td>F</td>\n",
       "      <td>36</td>\n",
       "      <td>F33-42</td>\n",
       "    </tr>\n",
       "    <tr>\n",
       "      <th>10</th>\n",
       "      <td>9032155484127182494</td>\n",
       "      <td>M</td>\n",
       "      <td>31</td>\n",
       "      <td>M29-31</td>\n",
       "    </tr>\n",
       "    <tr>\n",
       "      <th>11</th>\n",
       "      <td>7477216237379271436</td>\n",
       "      <td>F</td>\n",
       "      <td>37</td>\n",
       "      <td>F33-42</td>\n",
       "    </tr>\n",
       "    <tr>\n",
       "      <th>12</th>\n",
       "      <td>2478205222798310601</td>\n",
       "      <td>F</td>\n",
       "      <td>28</td>\n",
       "      <td>F27-28</td>\n",
       "    </tr>\n",
       "    <tr>\n",
       "      <th>13</th>\n",
       "      <td>6352067998666467520</td>\n",
       "      <td>M</td>\n",
       "      <td>32</td>\n",
       "      <td>M32-38</td>\n",
       "    </tr>\n",
       "    <tr>\n",
       "      <th>14</th>\n",
       "      <td>-7605360767281960867</td>\n",
       "      <td>M</td>\n",
       "      <td>48</td>\n",
       "      <td>M39+</td>\n",
       "    </tr>\n",
       "    <tr>\n",
       "      <th>15</th>\n",
       "      <td>1508636020748379883</td>\n",
       "      <td>F</td>\n",
       "      <td>28</td>\n",
       "      <td>F27-28</td>\n",
       "    </tr>\n",
       "    <tr>\n",
       "      <th>16</th>\n",
       "      <td>4380872794486415327</td>\n",
       "      <td>M</td>\n",
       "      <td>38</td>\n",
       "      <td>M32-38</td>\n",
       "    </tr>\n",
       "    <tr>\n",
       "      <th>17</th>\n",
       "      <td>-1039701474753771322</td>\n",
       "      <td>M</td>\n",
       "      <td>38</td>\n",
       "      <td>M32-38</td>\n",
       "    </tr>\n",
       "    <tr>\n",
       "      <th>18</th>\n",
       "      <td>-6876541075223249434</td>\n",
       "      <td>M</td>\n",
       "      <td>75</td>\n",
       "      <td>M39+</td>\n",
       "    </tr>\n",
       "    <tr>\n",
       "      <th>19</th>\n",
       "      <td>6287938418661076759</td>\n",
       "      <td>M</td>\n",
       "      <td>33</td>\n",
       "      <td>M32-38</td>\n",
       "    </tr>\n",
       "  </tbody>\n",
       "</table>\n",
       "</div>"
      ],
      "text/plain": [
       "              device_id gender  age   group\n",
       "0  -8076087639492063270      M   35  M32-38\n",
       "1  -2897161552818060146      M   35  M32-38\n",
       "2  -8260683887967679142      M   35  M32-38\n",
       "3  -4938849341048082022      M   30  M29-31\n",
       "4    245133531816851882      M   30  M29-31\n",
       "5  -1297074871525174196      F   24  F24-26\n",
       "6    236877999787307864      M   36  M32-38\n",
       "7  -8098239495777311881      M   38  M32-38\n",
       "8    176515041953473526      M   33  M32-38\n",
       "9   1596610250680140042      F   36  F33-42\n",
       "10  9032155484127182494      M   31  M29-31\n",
       "11  7477216237379271436      F   37  F33-42\n",
       "12  2478205222798310601      F   28  F27-28\n",
       "13  6352067998666467520      M   32  M32-38\n",
       "14 -7605360767281960867      M   48    M39+\n",
       "15  1508636020748379883      F   28  F27-28\n",
       "16  4380872794486415327      M   38  M32-38\n",
       "17 -1039701474753771322      M   38  M32-38\n",
       "18 -6876541075223249434      M   75    M39+\n",
       "19  6287938418661076759      M   33  M32-38"
      ]
     },
     "execution_count": 13,
     "metadata": {},
     "output_type": "execute_result"
    }
   ],
   "source": [
    "train.head(20)"
   ]
  },
  {
   "cell_type": "code",
   "execution_count": 5,
   "metadata": {
    "collapsed": false
   },
   "outputs": [
    {
     "data": {
      "text/html": [
       "<div>\n",
       "<table border=\"1\" class=\"dataframe\">\n",
       "  <thead>\n",
       "    <tr style=\"text-align: right;\">\n",
       "      <th></th>\n",
       "      <th>device_id</th>\n",
       "      <th>age</th>\n",
       "    </tr>\n",
       "  </thead>\n",
       "  <tbody>\n",
       "    <tr>\n",
       "      <th>count</th>\n",
       "      <td>7.464500e+04</td>\n",
       "      <td>74645.000000</td>\n",
       "    </tr>\n",
       "    <tr>\n",
       "      <th>mean</th>\n",
       "      <td>-7.491354e+14</td>\n",
       "      <td>31.410342</td>\n",
       "    </tr>\n",
       "    <tr>\n",
       "      <th>std</th>\n",
       "      <td>5.327150e+18</td>\n",
       "      <td>9.868735</td>\n",
       "    </tr>\n",
       "    <tr>\n",
       "      <th>min</th>\n",
       "      <td>-9.223067e+18</td>\n",
       "      <td>1.000000</td>\n",
       "    </tr>\n",
       "    <tr>\n",
       "      <th>25%</th>\n",
       "      <td>-4.617367e+18</td>\n",
       "      <td>25.000000</td>\n",
       "    </tr>\n",
       "    <tr>\n",
       "      <th>50%</th>\n",
       "      <td>-1.841362e+16</td>\n",
       "      <td>29.000000</td>\n",
       "    </tr>\n",
       "    <tr>\n",
       "      <th>75%</th>\n",
       "      <td>4.636656e+18</td>\n",
       "      <td>36.000000</td>\n",
       "    </tr>\n",
       "    <tr>\n",
       "      <th>max</th>\n",
       "      <td>9.222849e+18</td>\n",
       "      <td>96.000000</td>\n",
       "    </tr>\n",
       "  </tbody>\n",
       "</table>\n",
       "</div>"
      ],
      "text/plain": [
       "          device_id           age\n",
       "count  7.464500e+04  74645.000000\n",
       "mean  -7.491354e+14     31.410342\n",
       "std    5.327150e+18      9.868735\n",
       "min   -9.223067e+18      1.000000\n",
       "25%   -4.617367e+18     25.000000\n",
       "50%   -1.841362e+16     29.000000\n",
       "75%    4.636656e+18     36.000000\n",
       "max    9.222849e+18     96.000000"
      ]
     },
     "execution_count": 5,
     "metadata": {},
     "output_type": "execute_result"
    }
   ],
   "source": [
    "train.describe()"
   ]
  },
  {
   "cell_type": "code",
   "execution_count": 6,
   "metadata": {
    "collapsed": false
   },
   "outputs": [
    {
     "data": {
      "text/plain": [
       "74645"
      ]
     },
     "execution_count": 6,
     "metadata": {},
     "output_type": "execute_result"
    }
   ],
   "source": [
    "#how many device ids?\n",
    "len(train.device_id.unique())"
   ]
  },
  {
   "cell_type": "code",
   "execution_count": 13,
   "metadata": {
    "collapsed": false
   },
   "outputs": [
    {
     "data": {
      "text/plain": [
       "<matplotlib.axes._subplots.AxesSubplot at 0x181f31689e8>"
      ]
     },
     "execution_count": 13,
     "metadata": {},
     "output_type": "execute_result"
    },
    {
     "data": {
      "image/png": "[encoded data removed]",
      "text/plain": [
       "<matplotlib.figure.Figure at 0x181f33057f0>"
      ]
     },
     "metadata": {},
     "output_type": "display_data"
    }
   ],
   "source": [
    "#look into age\n",
    "train.age.hist()"
   ]
  },
  {
   "cell_type": "code",
   "execution_count": 14,
   "metadata": {
    "collapsed": false,
    "scrolled": true
   },
   "outputs": [
    {
     "data": {
      "text/plain": [
       "26    4540\n",
       "27    4476\n",
       "29    4343\n",
       "28    4087\n",
       "25    3740\n",
       "30    3730\n",
       "24    3501\n",
       "23    3115\n",
       "22    3018\n",
       "31    2996\n",
       "21    2994\n",
       "32    2641\n",
       "34    2586\n",
       "33    2481\n",
       "20    2349\n",
       "35    2014\n",
       "37    1621\n",
       "19    1612\n",
       "36    1602\n",
       "38    1357\n",
       "39    1247\n",
       "40    1170\n",
       "42    1029\n",
       "41    1026\n",
       "43     989\n",
       "46     937\n",
       "44     922\n",
       "45     867\n",
       "18     758\n",
       "47     665\n",
       "      ... \n",
       "71      46\n",
       "72      36\n",
       "14      35\n",
       "70      30\n",
       "74      27\n",
       "76      26\n",
       "75      23\n",
       "73      18\n",
       "13      15\n",
       "80      14\n",
       "12      14\n",
       "77      13\n",
       "79      13\n",
       "78      13\n",
       "83      11\n",
       "81      10\n",
       "88       5\n",
       "10       5\n",
       "11       4\n",
       "86       4\n",
       "6        4\n",
       "85       3\n",
       "89       3\n",
       "87       3\n",
       "84       2\n",
       "82       2\n",
       "90       1\n",
       "96       1\n",
       "1        1\n",
       "94       1\n",
       "Name: age, dtype: int64"
      ]
     },
     "execution_count": 14,
     "metadata": {},
     "output_type": "execute_result"
    }
   ],
   "source": [
    "train.age.value_counts()"
   ]
  },
  {
   "cell_type": "code",
   "execution_count": 15,
   "metadata": {
    "collapsed": false
   },
   "outputs": [
    {
     "data": {
      "text/plain": [
       "M23-26    9605\n",
       "M32-38    9476\n",
       "M39+      8581\n",
       "M22-      7488\n",
       "M29-31    7309\n",
       "F33-42    5561\n",
       "M27-28    5445\n",
       "F23-      5050\n",
       "F29-32    4628\n",
       "F43+      4194\n",
       "F24-26    4190\n",
       "F27-28    3118\n",
       "Name: group, dtype: int64"
      ]
     },
     "execution_count": 15,
     "metadata": {},
     "output_type": "execute_result"
    }
   ],
   "source": [
    "train.group.value_counts()"
   ]
  },
  {
   "cell_type": "code",
   "execution_count": 16,
   "metadata": {
    "collapsed": false
   },
   "outputs": [
    {
     "data": {
      "text/plain": [
       "M    47904\n",
       "F    26741\n",
       "Name: gender, dtype: int64"
      ]
     },
     "execution_count": 16,
     "metadata": {},
     "output_type": "execute_result"
    }
   ],
   "source": [
    "train.gender.value_counts()"
   ]
  },
  {
   "cell_type": "markdown",
   "metadata": {},
   "source": [
    "# Wow! users are highly skewed towards being male."
   ]
  },
  {
   "cell_type": "markdown",
   "metadata": {},
   "source": [
    "# app_events"
   ]
  },
  {
   "cell_type": "code",
   "execution_count": 20,
   "metadata": {
    "collapsed": false
   },
   "outputs": [
    {
     "name": "stdout",
     "output_type": "stream",
     "text": [
      "<class 'pandas.core.frame.DataFrame'>\n",
      "RangeIndex: 32473067 entries, 0 to 32473066\n",
      "Data columns (total 4 columns):\n",
      "event_id        int64\n",
      "app_id          int64\n",
      "is_installed    int64\n",
      "is_active       int64\n",
      "dtypes: int64(4)\n",
      "memory usage: 991.0 MB\n"
     ]
    }
   ],
   "source": [
    "app_events.info()"
   ]
  },
  {
   "cell_type": "code",
   "execution_count": 21,
   "metadata": {
    "collapsed": false
   },
   "outputs": [
    {
     "data": {
      "text/html": [
       "<div>\n",
       "<table border=\"1\" class=\"dataframe\">\n",
       "  <thead>\n",
       "    <tr style=\"text-align: right;\">\n",
       "      <th></th>\n",
       "      <th>event_id</th>\n",
       "      <th>app_id</th>\n",
       "      <th>is_installed</th>\n",
       "      <th>is_active</th>\n",
       "    </tr>\n",
       "  </thead>\n",
       "  <tbody>\n",
       "    <tr>\n",
       "      <th>0</th>\n",
       "      <td>2</td>\n",
       "      <td>5927333115845830913</td>\n",
       "      <td>1</td>\n",
       "      <td>1</td>\n",
       "    </tr>\n",
       "    <tr>\n",
       "      <th>1</th>\n",
       "      <td>2</td>\n",
       "      <td>-5720078949152207372</td>\n",
       "      <td>1</td>\n",
       "      <td>0</td>\n",
       "    </tr>\n",
       "    <tr>\n",
       "      <th>2</th>\n",
       "      <td>2</td>\n",
       "      <td>-1633887856876571208</td>\n",
       "      <td>1</td>\n",
       "      <td>0</td>\n",
       "    </tr>\n",
       "    <tr>\n",
       "      <th>3</th>\n",
       "      <td>2</td>\n",
       "      <td>-653184325010919369</td>\n",
       "      <td>1</td>\n",
       "      <td>1</td>\n",
       "    </tr>\n",
       "    <tr>\n",
       "      <th>4</th>\n",
       "      <td>2</td>\n",
       "      <td>8693964245073640147</td>\n",
       "      <td>1</td>\n",
       "      <td>1</td>\n",
       "    </tr>\n",
       "  </tbody>\n",
       "</table>\n",
       "</div>"
      ],
      "text/plain": [
       "   event_id               app_id  is_installed  is_active\n",
       "0         2  5927333115845830913             1          1\n",
       "1         2 -5720078949152207372             1          0\n",
       "2         2 -1633887856876571208             1          0\n",
       "3         2  -653184325010919369             1          1\n",
       "4         2  8693964245073640147             1          1"
      ]
     },
     "execution_count": 21,
     "metadata": {},
     "output_type": "execute_result"
    }
   ],
   "source": [
    "app_events.head()"
   ]
  },
  {
   "cell_type": "code",
   "execution_count": 22,
   "metadata": {
    "collapsed": false
   },
   "outputs": [
    {
     "data": {
      "text/html": [
       "<div>\n",
       "<table border=\"1\" class=\"dataframe\">\n",
       "  <thead>\n",
       "    <tr style=\"text-align: right;\">\n",
       "      <th></th>\n",
       "      <th>event_id</th>\n",
       "      <th>app_id</th>\n",
       "      <th>is_installed</th>\n",
       "      <th>is_active</th>\n",
       "    </tr>\n",
       "  </thead>\n",
       "  <tbody>\n",
       "    <tr>\n",
       "      <th>count</th>\n",
       "      <td>3.247307e+07</td>\n",
       "      <td>3.247307e+07</td>\n",
       "      <td>32473067.0</td>\n",
       "      <td>3.247307e+07</td>\n",
       "    </tr>\n",
       "    <tr>\n",
       "      <th>mean</th>\n",
       "      <td>1.625564e+06</td>\n",
       "      <td>1.182779e+18</td>\n",
       "      <td>1.0</td>\n",
       "      <td>3.921094e-01</td>\n",
       "    </tr>\n",
       "    <tr>\n",
       "      <th>std</th>\n",
       "      <td>9.384682e+05</td>\n",
       "      <td>5.360173e+18</td>\n",
       "      <td>0.0</td>\n",
       "      <td>4.882209e-01</td>\n",
       "    </tr>\n",
       "    <tr>\n",
       "      <th>min</th>\n",
       "      <td>2.000000e+00</td>\n",
       "      <td>-9.221157e+18</td>\n",
       "      <td>1.0</td>\n",
       "      <td>0.000000e+00</td>\n",
       "    </tr>\n",
       "    <tr>\n",
       "      <th>25%</th>\n",
       "      <td>8.134720e+05</td>\n",
       "      <td>-3.474568e+18</td>\n",
       "      <td>1.0</td>\n",
       "      <td>0.000000e+00</td>\n",
       "    </tr>\n",
       "    <tr>\n",
       "      <th>50%</th>\n",
       "      <td>1.626907e+06</td>\n",
       "      <td>1.387044e+18</td>\n",
       "      <td>1.0</td>\n",
       "      <td>0.000000e+00</td>\n",
       "    </tr>\n",
       "    <tr>\n",
       "      <th>75%</th>\n",
       "      <td>2.441106e+06</td>\n",
       "      <td>6.043001e+18</td>\n",
       "      <td>1.0</td>\n",
       "      <td>1.000000e+00</td>\n",
       "    </tr>\n",
       "    <tr>\n",
       "      <th>max</th>\n",
       "      <td>3.252948e+06</td>\n",
       "      <td>9.222488e+18</td>\n",
       "      <td>1.0</td>\n",
       "      <td>1.000000e+00</td>\n",
       "    </tr>\n",
       "  </tbody>\n",
       "</table>\n",
       "</div>"
      ],
      "text/plain": [
       "           event_id        app_id  is_installed     is_active\n",
       "count  3.247307e+07  3.247307e+07    32473067.0  3.247307e+07\n",
       "mean   1.625564e+06  1.182779e+18           1.0  3.921094e-01\n",
       "std    9.384682e+05  5.360173e+18           0.0  4.882209e-01\n",
       "min    2.000000e+00 -9.221157e+18           1.0  0.000000e+00\n",
       "25%    8.134720e+05 -3.474568e+18           1.0  0.000000e+00\n",
       "50%    1.626907e+06  1.387044e+18           1.0  0.000000e+00\n",
       "75%    2.441106e+06  6.043001e+18           1.0  1.000000e+00\n",
       "max    3.252948e+06  9.222488e+18           1.0  1.000000e+00"
      ]
     },
     "execution_count": 22,
     "metadata": {},
     "output_type": "execute_result"
    }
   ],
   "source": [
    "app_events.describe()"
   ]
  },
  {
   "cell_type": "code",
   "execution_count": 19,
   "metadata": {
    "collapsed": false,
    "scrolled": true
   },
   "outputs": [
    {
     "data": {
      "text/plain": [
       "3215932    320\n",
       "1827617    304\n",
       "2849072    304\n",
       "2325136    303\n",
       "3085011    303\n",
       "1923040    303\n",
       "2805295    302\n",
       "2679507    302\n",
       "2412744    302\n",
       "1160746    300\n",
       "2990638    299\n",
       "219629     298\n",
       "956087     298\n",
       "2328996    297\n",
       "2989536    261\n",
       "2204686    261\n",
       "1472406    261\n",
       "649636     261\n",
       "2932987    261\n",
       "2470660    261\n",
       "2573741    261\n",
       "1801966    261\n",
       "1598158    261\n",
       "1324254    261\n",
       "1874044    261\n",
       "2826735    261\n",
       "2227905    261\n",
       "2084776    255\n",
       "79641      254\n",
       "1359558    251\n",
       "          ... \n",
       "2682884      1\n",
       "2597984      1\n",
       "1247580      1\n",
       "2745773      1\n",
       "914594       1\n",
       "2568701      1\n",
       "745980       1\n",
       "1385012      1\n",
       "635946       1\n",
       "1032734      1\n",
       "3207938      1\n",
       "1270524      1\n",
       "2182932      1\n",
       "2887356      1\n",
       "2273610      1\n",
       "1778676      1\n",
       "2450492      1\n",
       "574206       1\n",
       "2729380      1\n",
       "1210197      1\n",
       "407005       1\n",
       "1155749      1\n",
       "193861       1\n",
       "1893133      1\n",
       "13597        1\n",
       "898221       1\n",
       "936692       1\n",
       "985820       1\n",
       "2319613      1\n",
       "575841       1\n",
       "Name: event_id, dtype: int64"
      ]
     },
     "execution_count": 19,
     "metadata": {},
     "output_type": "execute_result"
    }
   ],
   "source": [
    "app_events.event_id.value_counts()"
   ]
  },
  {
   "cell_type": "code",
   "execution_count": 20,
   "metadata": {
    "collapsed": false
   },
   "outputs": [
    {
     "data": {
      "text/plain": [
       "1488096"
      ]
     },
     "execution_count": 20,
     "metadata": {},
     "output_type": "execute_result"
    }
   ],
   "source": [
    "len(app_events.event_id.unique())"
   ]
  },
  {
   "cell_type": "code",
   "execution_count": 6,
   "metadata": {
    "collapsed": false
   },
   "outputs": [],
   "source": [
    "app_counts = app_events.app_id.value_counts()"
   ]
  },
  {
   "cell_type": "code",
   "execution_count": 22,
   "metadata": {
    "collapsed": false
   },
   "outputs": [
    {
     "data": {
      "text/plain": [
       "19237"
      ]
     },
     "execution_count": 22,
     "metadata": {},
     "output_type": "execute_result"
    }
   ],
   "source": [
    "len(app_events.app_id.unique())"
   ]
  },
  {
   "cell_type": "code",
   "execution_count": 11,
   "metadata": {
    "collapsed": false
   },
   "outputs": [
    {
     "data": {
      "text/plain": [
       "535"
      ]
     },
     "execution_count": 11,
     "metadata": {},
     "output_type": "execute_result"
    }
   ],
   "source": [
    "len(app_counts[app_counts > 10000])"
   ]
  },
  {
   "cell_type": "markdown",
   "metadata": {},
   "source": [
    "# app_labels"
   ]
  },
  {
   "cell_type": "code",
   "execution_count": 23,
   "metadata": {
    "collapsed": false
   },
   "outputs": [
    {
     "name": "stdout",
     "output_type": "stream",
     "text": [
      "<class 'pandas.core.frame.DataFrame'>\n",
      "RangeIndex: 459943 entries, 0 to 459942\n",
      "Data columns (total 2 columns):\n",
      "app_id      459943 non-null int64\n",
      "label_id    459943 non-null int64\n",
      "dtypes: int64(2)\n",
      "memory usage: 7.0 MB\n"
     ]
    }
   ],
   "source": [
    "app_labels.info()"
   ]
  },
  {
   "cell_type": "code",
   "execution_count": 24,
   "metadata": {
    "collapsed": false
   },
   "outputs": [
    {
     "data": {
      "text/html": [
       "<div>\n",
       "<table border=\"1\" class=\"dataframe\">\n",
       "  <thead>\n",
       "    <tr style=\"text-align: right;\">\n",
       "      <th></th>\n",
       "      <th>app_id</th>\n",
       "      <th>label_id</th>\n",
       "    </tr>\n",
       "  </thead>\n",
       "  <tbody>\n",
       "    <tr>\n",
       "      <th>0</th>\n",
       "      <td>7324884708820027918</td>\n",
       "      <td>251</td>\n",
       "    </tr>\n",
       "    <tr>\n",
       "      <th>1</th>\n",
       "      <td>-4494216993218550286</td>\n",
       "      <td>251</td>\n",
       "    </tr>\n",
       "    <tr>\n",
       "      <th>2</th>\n",
       "      <td>6058196446775239644</td>\n",
       "      <td>406</td>\n",
       "    </tr>\n",
       "    <tr>\n",
       "      <th>3</th>\n",
       "      <td>6058196446775239644</td>\n",
       "      <td>407</td>\n",
       "    </tr>\n",
       "    <tr>\n",
       "      <th>4</th>\n",
       "      <td>8694625920731541625</td>\n",
       "      <td>406</td>\n",
       "    </tr>\n",
       "  </tbody>\n",
       "</table>\n",
       "</div>"
      ],
      "text/plain": [
       "                app_id  label_id\n",
       "0  7324884708820027918       251\n",
       "1 -4494216993218550286       251\n",
       "2  6058196446775239644       406\n",
       "3  6058196446775239644       407\n",
       "4  8694625920731541625       406"
      ]
     },
     "execution_count": 24,
     "metadata": {},
     "output_type": "execute_result"
    }
   ],
   "source": [
    "app_labels.head()"
   ]
  },
  {
   "cell_type": "code",
   "execution_count": 26,
   "metadata": {
    "collapsed": false
   },
   "outputs": [
    {
     "data": {
      "text/plain": [
       "548    56902\n",
       "405    53936\n",
       "794    49320\n",
       "795    48707\n",
       "704    45697\n",
       "714    19083\n",
       "713    11840\n",
       "854     9955\n",
       "710     9027\n",
       "711     8831\n",
       "796     7375\n",
       "810     7052\n",
       "721     5910\n",
       "800     5147\n",
       "811     5135\n",
       "813     5124\n",
       "730     4619\n",
       "798     3608\n",
       "857     2723\n",
       "870     2582\n",
       "812     2496\n",
       "777     2471\n",
       "805     2353\n",
       "802     2327\n",
       "549     2243\n",
       "251     2208\n",
       "803     2162\n",
       "783     2028\n",
       "797     1972\n",
       "756     1955\n",
       "       ...  \n",
       "692        3\n",
       "990        3\n",
       "989        3\n",
       "988        3\n",
       "986        3\n",
       "218        2\n",
       "242        2\n",
       "216        2\n",
       "174        2\n",
       "173        2\n",
       "924        2\n",
       "735        2\n",
       "249        2\n",
       "563        1\n",
       "4          1\n",
       "41         1\n",
       "763        1\n",
       "2          1\n",
       "553        1\n",
       "21         1\n",
       "246        1\n",
       "244        1\n",
       "265        1\n",
       "199        1\n",
       "921        1\n",
       "155        1\n",
       "270        1\n",
       "696        1\n",
       "48         1\n",
       "146        1\n",
       "Name: label_id, dtype: int64"
      ]
     },
     "execution_count": 26,
     "metadata": {},
     "output_type": "execute_result"
    }
   ],
   "source": [
    "app_labels.label_id.value_counts()"
   ]
  },
  {
   "cell_type": "code",
   "execution_count": 27,
   "metadata": {
    "collapsed": false
   },
   "outputs": [
    {
     "data": {
      "text/plain": [
       "507"
      ]
     },
     "execution_count": 27,
     "metadata": {},
     "output_type": "execute_result"
    }
   ],
   "source": [
    "len(app_labels.label_id.unique())"
   ]
  },
  {
   "cell_type": "code",
   "execution_count": 26,
   "metadata": {
    "collapsed": false
   },
   "outputs": [
    {
     "data": {
      "text/plain": [
       "113211"
      ]
     },
     "execution_count": 26,
     "metadata": {},
     "output_type": "execute_result"
    }
   ],
   "source": [
    "len(app_labels.app_id.unique())"
   ]
  },
  {
   "cell_type": "code",
   "execution_count": 27,
   "metadata": {
    "collapsed": false
   },
   "outputs": [
    {
     "data": {
      "text/plain": [
       " 6792270137491452041    26\n",
       "-4550209074213737101    23\n",
       " 33792862810792679      20\n",
       " 7334124244583991496    20\n",
       " 1321978891423004894    20\n",
       " 2004030030916210247    19\n",
       " 1001398498434380294    19\n",
       "-4577196685860147270    19\n",
       "-4581899107652088128    19\n",
       " 8748186572227813281    18\n",
       "-653184325026622087     18\n",
       "-5839858269967688123    18\n",
       " 7488171461387766536    18\n",
       "-2750216768115026646    18\n",
       " 1512106437929874965    18\n",
       " 7310940964635812162    18\n",
       " 1886578604601590220    18\n",
       "-4020518904248117295    18\n",
       "-5114610257339534663    18\n",
       " 7875772580533910613    18\n",
       "-1633958535834641769    18\n",
       "-1633953515196607839    18\n",
       " 1081301425634924658    18\n",
       " 9211954271534258460    18\n",
       " 5500110771702611013    18\n",
       "-9050100410106163077    18\n",
       " 8845251844360692488    18\n",
       " 8026407831917254841    18\n",
       "-4005790770255598286    18\n",
       "-3876583918535716275    17\n",
       "                        ..\n",
       " 7596333339626096573     1\n",
       "-3847886588935930241     1\n",
       " 6229172628559903352     1\n",
       "-961867029239375825      1\n",
       "-6099801646020592874     1\n",
       "-849611159005828488      1\n",
       "-6706969278268777337     1\n",
       "-4313710793263814118     1\n",
       " 4068529033070177301     1\n",
       "-7167131291484201023     1\n",
       " 910711212803151541      1\n",
       "-6386025176210413579     1\n",
       "-6643391363001957623     1\n",
       " 931282415900588378      1\n",
       "-8711942783481897627     1\n",
       " 9173859549674305718     1\n",
       "-450723994850216235      1\n",
       " 4340063262848565479     1\n",
       " 7367005676740299484     1\n",
       "-7748636904535436157     1\n",
       "-6509119401249589391     1\n",
       "-1631251618582631569     1\n",
       " 6308175282837537506     1\n",
       "-964522995786739190      1\n",
       "-4700424923558089414     1\n",
       "-4997455922225260656     1\n",
       " 658614037396743529      1\n",
       " 6666573794781566364     1\n",
       " 6201006340515268623     1\n",
       "-5785536208046160250     1\n",
       "Name: app_id, dtype: int64"
      ]
     },
     "execution_count": 27,
     "metadata": {},
     "output_type": "execute_result"
    }
   ],
   "source": [
    "app_labels.app_id.value_counts()"
   ]
  },
  {
   "cell_type": "code",
   "execution_count": 28,
   "metadata": {
    "collapsed": false
   },
   "outputs": [
    {
     "data": {
      "text/html": [
       "<div>\n",
       "<table border=\"1\" class=\"dataframe\">\n",
       "  <thead>\n",
       "    <tr style=\"text-align: right;\">\n",
       "      <th></th>\n",
       "      <th>app_id</th>\n",
       "      <th>label_id</th>\n",
       "    </tr>\n",
       "  </thead>\n",
       "  <tbody>\n",
       "    <tr>\n",
       "      <th>3371</th>\n",
       "      <td>6792270137491452041</td>\n",
       "      <td>549</td>\n",
       "    </tr>\n",
       "    <tr>\n",
       "      <th>48124</th>\n",
       "      <td>6792270137491452041</td>\n",
       "      <td>713</td>\n",
       "    </tr>\n",
       "    <tr>\n",
       "      <th>88419</th>\n",
       "      <td>6792270137491452041</td>\n",
       "      <td>704</td>\n",
       "    </tr>\n",
       "    <tr>\n",
       "      <th>139399</th>\n",
       "      <td>6792270137491452041</td>\n",
       "      <td>761</td>\n",
       "    </tr>\n",
       "    <tr>\n",
       "      <th>139444</th>\n",
       "      <td>6792270137491452041</td>\n",
       "      <td>757</td>\n",
       "    </tr>\n",
       "    <tr>\n",
       "      <th>142628</th>\n",
       "      <td>6792270137491452041</td>\n",
       "      <td>787</td>\n",
       "    </tr>\n",
       "    <tr>\n",
       "      <th>142650</th>\n",
       "      <td>6792270137491452041</td>\n",
       "      <td>783</td>\n",
       "    </tr>\n",
       "    <tr>\n",
       "      <th>145971</th>\n",
       "      <td>6792270137491452041</td>\n",
       "      <td>777</td>\n",
       "    </tr>\n",
       "    <tr>\n",
       "      <th>146006</th>\n",
       "      <td>6792270137491452041</td>\n",
       "      <td>775</td>\n",
       "    </tr>\n",
       "    <tr>\n",
       "      <th>149325</th>\n",
       "      <td>6792270137491452041</td>\n",
       "      <td>782</td>\n",
       "    </tr>\n",
       "    <tr>\n",
       "      <th>149351</th>\n",
       "      <td>6792270137491452041</td>\n",
       "      <td>779</td>\n",
       "    </tr>\n",
       "    <tr>\n",
       "      <th>189945</th>\n",
       "      <td>6792270137491452041</td>\n",
       "      <td>730</td>\n",
       "    </tr>\n",
       "    <tr>\n",
       "      <th>189946</th>\n",
       "      <td>6792270137491452041</td>\n",
       "      <td>756</td>\n",
       "    </tr>\n",
       "    <tr>\n",
       "      <th>194850</th>\n",
       "      <td>6792270137491452041</td>\n",
       "      <td>252</td>\n",
       "    </tr>\n",
       "    <tr>\n",
       "      <th>195035</th>\n",
       "      <td>6792270137491452041</td>\n",
       "      <td>407</td>\n",
       "    </tr>\n",
       "    <tr>\n",
       "      <th>195109</th>\n",
       "      <td>6792270137491452041</td>\n",
       "      <td>251</td>\n",
       "    </tr>\n",
       "    <tr>\n",
       "      <th>195252</th>\n",
       "      <td>6792270137491452041</td>\n",
       "      <td>406</td>\n",
       "    </tr>\n",
       "    <tr>\n",
       "      <th>418118</th>\n",
       "      <td>6792270137491452041</td>\n",
       "      <td>959</td>\n",
       "    </tr>\n",
       "    <tr>\n",
       "      <th>418282</th>\n",
       "      <td>6792270137491452041</td>\n",
       "      <td>960</td>\n",
       "    </tr>\n",
       "    <tr>\n",
       "      <th>438552</th>\n",
       "      <td>6792270137491452041</td>\n",
       "      <td>1007</td>\n",
       "    </tr>\n",
       "    <tr>\n",
       "      <th>439359</th>\n",
       "      <td>6792270137491452041</td>\n",
       "      <td>162</td>\n",
       "    </tr>\n",
       "    <tr>\n",
       "      <th>439360</th>\n",
       "      <td>6792270137491452041</td>\n",
       "      <td>252</td>\n",
       "    </tr>\n",
       "    <tr>\n",
       "      <th>439361</th>\n",
       "      <td>6792270137491452041</td>\n",
       "      <td>253</td>\n",
       "    </tr>\n",
       "    <tr>\n",
       "      <th>439362</th>\n",
       "      <td>6792270137491452041</td>\n",
       "      <td>260</td>\n",
       "    </tr>\n",
       "    <tr>\n",
       "      <th>444469</th>\n",
       "      <td>6792270137491452041</td>\n",
       "      <td>405</td>\n",
       "    </tr>\n",
       "    <tr>\n",
       "      <th>449922</th>\n",
       "      <td>6792270137491452041</td>\n",
       "      <td>548</td>\n",
       "    </tr>\n",
       "  </tbody>\n",
       "</table>\n",
       "</div>"
      ],
      "text/plain": [
       "                     app_id  label_id\n",
       "3371    6792270137491452041       549\n",
       "48124   6792270137491452041       713\n",
       "88419   6792270137491452041       704\n",
       "139399  6792270137491452041       761\n",
       "139444  6792270137491452041       757\n",
       "142628  6792270137491452041       787\n",
       "142650  6792270137491452041       783\n",
       "145971  6792270137491452041       777\n",
       "146006  6792270137491452041       775\n",
       "149325  6792270137491452041       782\n",
       "149351  6792270137491452041       779\n",
       "189945  6792270137491452041       730\n",
       "189946  6792270137491452041       756\n",
       "194850  6792270137491452041       252\n",
       "195035  6792270137491452041       407\n",
       "195109  6792270137491452041       251\n",
       "195252  6792270137491452041       406\n",
       "418118  6792270137491452041       959\n",
       "418282  6792270137491452041       960\n",
       "438552  6792270137491452041      1007\n",
       "439359  6792270137491452041       162\n",
       "439360  6792270137491452041       252\n",
       "439361  6792270137491452041       253\n",
       "439362  6792270137491452041       260\n",
       "444469  6792270137491452041       405\n",
       "449922  6792270137491452041       548"
      ]
     },
     "execution_count": 28,
     "metadata": {},
     "output_type": "execute_result"
    }
   ],
   "source": [
    "app_labels[app_labels.app_id == 6792270137491452041]"
   ]
  },
  {
   "cell_type": "markdown",
   "metadata": {},
   "source": [
    "# Events"
   ]
  },
  {
   "cell_type": "code",
   "execution_count": 4,
   "metadata": {
    "collapsed": false
   },
   "outputs": [
    {
     "name": "stdout",
     "output_type": "stream",
     "text": [
      "<class 'pandas.core.frame.DataFrame'>\n",
      "RangeIndex: 3252950 entries, 0 to 3252949\n",
      "Data columns (total 5 columns):\n",
      "event_id     int64\n",
      "device_id    int64\n",
      "timestamp    datetime64[ns]\n",
      "longitude    float64\n",
      "latitude     float64\n",
      "dtypes: datetime64[ns](1), float64(2), int64(2)\n",
      "memory usage: 124.1 MB\n"
     ]
    }
   ],
   "source": [
    "events.info()"
   ]
  },
  {
   "cell_type": "code",
   "execution_count": 47,
   "metadata": {
    "collapsed": false
   },
   "outputs": [
    {
     "data": {
      "text/html": [
       "<div>\n",
       "<table border=\"1\" class=\"dataframe\">\n",
       "  <thead>\n",
       "    <tr style=\"text-align: right;\">\n",
       "      <th></th>\n",
       "      <th>event_id</th>\n",
       "      <th>device_id</th>\n",
       "      <th>timestamp</th>\n",
       "      <th>longitude</th>\n",
       "      <th>latitude</th>\n",
       "    </tr>\n",
       "  </thead>\n",
       "  <tbody>\n",
       "    <tr>\n",
       "      <th>0</th>\n",
       "      <td>1</td>\n",
       "      <td>29182687948017175</td>\n",
       "      <td>2016-05-01 00:55:25</td>\n",
       "      <td>121.38</td>\n",
       "      <td>31.24</td>\n",
       "    </tr>\n",
       "    <tr>\n",
       "      <th>1</th>\n",
       "      <td>2</td>\n",
       "      <td>-6401643145415154744</td>\n",
       "      <td>2016-05-01 00:54:12</td>\n",
       "      <td>103.65</td>\n",
       "      <td>30.97</td>\n",
       "    </tr>\n",
       "    <tr>\n",
       "      <th>2</th>\n",
       "      <td>3</td>\n",
       "      <td>-4833982096941402721</td>\n",
       "      <td>2016-05-01 00:08:05</td>\n",
       "      <td>106.60</td>\n",
       "      <td>29.70</td>\n",
       "    </tr>\n",
       "    <tr>\n",
       "      <th>3</th>\n",
       "      <td>4</td>\n",
       "      <td>-6815121365017318426</td>\n",
       "      <td>2016-05-01 00:06:40</td>\n",
       "      <td>104.27</td>\n",
       "      <td>23.28</td>\n",
       "    </tr>\n",
       "    <tr>\n",
       "      <th>4</th>\n",
       "      <td>5</td>\n",
       "      <td>-5373797595892518570</td>\n",
       "      <td>2016-05-01 00:07:18</td>\n",
       "      <td>115.88</td>\n",
       "      <td>28.66</td>\n",
       "    </tr>\n",
       "  </tbody>\n",
       "</table>\n",
       "</div>"
      ],
      "text/plain": [
       "   event_id            device_id           timestamp  longitude  latitude\n",
       "0         1    29182687948017175 2016-05-01 00:55:25     121.38     31.24\n",
       "1         2 -6401643145415154744 2016-05-01 00:54:12     103.65     30.97\n",
       "2         3 -4833982096941402721 2016-05-01 00:08:05     106.60     29.70\n",
       "3         4 -6815121365017318426 2016-05-01 00:06:40     104.27     23.28\n",
       "4         5 -5373797595892518570 2016-05-01 00:07:18     115.88     28.66"
      ]
     },
     "execution_count": 47,
     "metadata": {},
     "output_type": "execute_result"
    }
   ],
   "source": [
    "events.head()"
   ]
  },
  {
   "cell_type": "code",
   "execution_count": 51,
   "metadata": {
    "collapsed": false
   },
   "outputs": [
    {
     "data": {
      "text/plain": [
       "0           0\n",
       "1           0\n",
       "2           0\n",
       "3           0\n",
       "4           0\n",
       "5           0\n",
       "6           0\n",
       "7           0\n",
       "8           0\n",
       "9           0\n",
       "10          0\n",
       "11          0\n",
       "12          0\n",
       "13          0\n",
       "14          0\n",
       "15          0\n",
       "16          0\n",
       "17          0\n",
       "18          0\n",
       "19          0\n",
       "20          0\n",
       "21          0\n",
       "22         23\n",
       "23         23\n",
       "24         23\n",
       "25          0\n",
       "26          0\n",
       "27          0\n",
       "28          0\n",
       "29          0\n",
       "           ..\n",
       "3252920    23\n",
       "3252921    22\n",
       "3252922    23\n",
       "3252923    22\n",
       "3252924    22\n",
       "3252925    23\n",
       "3252926    23\n",
       "3252927    23\n",
       "3252928    23\n",
       "3252929    23\n",
       "3252930    23\n",
       "3252931    23\n",
       "3252932    23\n",
       "3252933    23\n",
       "3252934    23\n",
       "3252935    23\n",
       "3252936    23\n",
       "3252937    23\n",
       "3252938    23\n",
       "3252939    23\n",
       "3252940    23\n",
       "3252941    22\n",
       "3252942    23\n",
       "3252943    23\n",
       "3252944    23\n",
       "3252945    23\n",
       "3252946    23\n",
       "3252947    23\n",
       "3252948    23\n",
       "3252949    23\n",
       "Name: timestamp, dtype: int64"
      ]
     },
     "execution_count": 51,
     "metadata": {},
     "output_type": "execute_result"
    }
   ],
   "source": [
    "events.timestamp.dt.hour"
   ]
  },
  {
   "cell_type": "code",
   "execution_count": 52,
   "metadata": {
    "collapsed": false
   },
   "outputs": [
    {
     "name": "stdout",
     "output_type": "stream",
     "text": [
      "2016-04-30 23:52:24\n",
      "2016-05-08 00:00:08\n"
     ]
    }
   ],
   "source": [
    "print(events.timestamp.min())\n",
    "print(events.timestamp.max())"
   ]
  },
  {
   "cell_type": "code",
   "execution_count": 33,
   "metadata": {
    "collapsed": false
   },
   "outputs": [
    {
     "data": {
      "text/html": [
       "<div>\n",
       "<table border=\"1\" class=\"dataframe\">\n",
       "  <thead>\n",
       "    <tr style=\"text-align: right;\">\n",
       "      <th></th>\n",
       "      <th>event_id</th>\n",
       "      <th>device_id</th>\n",
       "      <th>longitude</th>\n",
       "      <th>latitude</th>\n",
       "    </tr>\n",
       "  </thead>\n",
       "  <tbody>\n",
       "    <tr>\n",
       "      <th>count</th>\n",
       "      <td>3.252950e+06</td>\n",
       "      <td>3.252950e+06</td>\n",
       "      <td>3.252950e+06</td>\n",
       "      <td>3.252950e+06</td>\n",
       "    </tr>\n",
       "    <tr>\n",
       "      <th>mean</th>\n",
       "      <td>1.626476e+06</td>\n",
       "      <td>-2.685140e+16</td>\n",
       "      <td>7.796192e+01</td>\n",
       "      <td>2.162949e+01</td>\n",
       "    </tr>\n",
       "    <tr>\n",
       "      <th>std</th>\n",
       "      <td>9.390459e+05</td>\n",
       "      <td>5.301236e+18</td>\n",
       "      <td>5.405801e+01</td>\n",
       "      <td>1.569697e+01</td>\n",
       "    </tr>\n",
       "    <tr>\n",
       "      <th>min</th>\n",
       "      <td>1.000000e+00</td>\n",
       "      <td>-9.222957e+18</td>\n",
       "      <td>-1.800000e+02</td>\n",
       "      <td>-3.843000e+01</td>\n",
       "    </tr>\n",
       "    <tr>\n",
       "      <th>25%</th>\n",
       "      <td>8.132382e+05</td>\n",
       "      <td>-4.616259e+18</td>\n",
       "      <td>0.000000e+00</td>\n",
       "      <td>0.000000e+00</td>\n",
       "    </tr>\n",
       "    <tr>\n",
       "      <th>50%</th>\n",
       "      <td>1.626476e+06</td>\n",
       "      <td>-1.729953e+16</td>\n",
       "      <td>1.129500e+02</td>\n",
       "      <td>2.802000e+01</td>\n",
       "    </tr>\n",
       "    <tr>\n",
       "      <th>75%</th>\n",
       "      <td>2.439713e+06</td>\n",
       "      <td>4.549750e+18</td>\n",
       "      <td>1.172100e+02</td>\n",
       "      <td>3.407000e+01</td>\n",
       "    </tr>\n",
       "    <tr>\n",
       "      <th>max</th>\n",
       "      <td>3.252950e+06</td>\n",
       "      <td>9.222540e+18</td>\n",
       "      <td>1.747600e+02</td>\n",
       "      <td>5.994000e+01</td>\n",
       "    </tr>\n",
       "  </tbody>\n",
       "</table>\n",
       "</div>"
      ],
      "text/plain": [
       "           event_id     device_id     longitude      latitude\n",
       "count  3.252950e+06  3.252950e+06  3.252950e+06  3.252950e+06\n",
       "mean   1.626476e+06 -2.685140e+16  7.796192e+01  2.162949e+01\n",
       "std    9.390459e+05  5.301236e+18  5.405801e+01  1.569697e+01\n",
       "min    1.000000e+00 -9.222957e+18 -1.800000e+02 -3.843000e+01\n",
       "25%    8.132382e+05 -4.616259e+18  0.000000e+00  0.000000e+00\n",
       "50%    1.626476e+06 -1.729953e+16  1.129500e+02  2.802000e+01\n",
       "75%    2.439713e+06  4.549750e+18  1.172100e+02  3.407000e+01\n",
       "max    3.252950e+06  9.222540e+18  1.747600e+02  5.994000e+01"
      ]
     },
     "execution_count": 33,
     "metadata": {},
     "output_type": "execute_result"
    }
   ],
   "source": [
    "events.describe()"
   ]
  },
  {
   "cell_type": "code",
   "execution_count": 29,
   "metadata": {
    "collapsed": false,
    "scrolled": false
   },
   "outputs": [
    {
     "data": {
      "text/plain": [
       " 1186608308763918427    33426\n",
       " 3915082290673137129    14568\n",
       "-1656894751624916732     6731\n",
       "-6242501228649113250     4150\n",
       "-8340098378141155823     3973\n",
       "-3746248670824158209     3907\n",
       " 2504414082456157897     3804\n",
       "-3037377082444295812     3534\n",
       "-17299534936664237       3506\n",
       "-7369693784883843916     3446\n",
       " 8339429008953975436     3440\n",
       " 5083019926611946481     3395\n",
       " 5375599021847302819     3128\n",
       "-5105332332397066846     3099\n",
       " 2771516290634663640     2975\n",
       " 6093002121756678917     2956\n",
       "-4272349824279327690     2941\n",
       " 4782582047729166353     2899\n",
       " 5412535611892404899     2890\n",
       " 6752290732094543435     2784\n",
       " 1779631023439405334     2757\n",
       " 5098778421671837341     2722\n",
       "-4408024234436488510     2625\n",
       " 6871174750645130490     2609\n",
       "-6470609369540549852     2522\n",
       "-7295456045290839743     2364\n",
       " 3724654925765159056     2347\n",
       "-6875585507485886098     2310\n",
       "-563333606900826189      2174\n",
       "-7335675747890320104     2124\n",
       "                        ...  \n",
       "-9181738358000344093        1\n",
       " 7806298636210591786        1\n",
       "-8657137191584682458        1\n",
       " 2460409982608909870        1\n",
       " 4574912929802652588        1\n",
       " 6529936973200668895        1\n",
       " 353870407349595833         1\n",
       " 7643630511904778088        1\n",
       "-8178011017730625825        1\n",
       " 3693283629384849626        1\n",
       "-9090134575924711687        1\n",
       " 7470994728496098234        1\n",
       "-8663675671158064437        1\n",
       " 1690913454485658940        1\n",
       "-7401090783234491411        1\n",
       "-6215870991943208253        1\n",
       "-7775990760794296818        1\n",
       " 2990307928043532031        1\n",
       "-1679203677211391692        1\n",
       "-8089334641910829974        1\n",
       "-4698716773161359414        1\n",
       "-2725755171689672216        1\n",
       "-7714630067332298822        1\n",
       "-3795476720672088985        1\n",
       "-375405073862187648         1\n",
       " 781851599932550953         1\n",
       "-8126302119835621758        1\n",
       "-803242747247619527         1\n",
       " 709247865516551294         1\n",
       " 4224710574768605050        1\n",
       "Name: device_id, dtype: int64"
      ]
     },
     "execution_count": 29,
     "metadata": {},
     "output_type": "execute_result"
    }
   ],
   "source": [
    "events.device_id.value_counts()"
   ]
  },
  {
   "cell_type": "code",
   "execution_count": 4,
   "metadata": {
    "collapsed": false
   },
   "outputs": [
    {
     "data": {
      "text/plain": [
       "60865"
      ]
     },
     "execution_count": 4,
     "metadata": {},
     "output_type": "execute_result"
    }
   ],
   "source": [
    "len(events.device_id.unique())"
   ]
  },
  {
   "cell_type": "code",
   "execution_count": 41,
   "metadata": {
    "collapsed": false
   },
   "outputs": [
    {
     "data": {
      "text/plain": [
       "[<matplotlib.lines.Line2D at 0x138834ccd30>]"
      ]
     },
     "execution_count": 41,
     "metadata": {},
     "output_type": "execute_result"
    },
    {
     "data": {
      "image/png": "[encoded data removed]",
      "text/plain": [
       "<matplotlib.figure.Figure at 0x1388306bac8>"
      ]
     },
     "metadata": {},
     "output_type": "display_data"
    }
   ],
   "source": [
    "plt.plot(events.longitude[:1000000], events.latitude[:1000000], '.')"
   ]
  },
  {
   "cell_type": "markdown",
   "metadata": {},
   "source": [
    "# Categories"
   ]
  },
  {
   "cell_type": "code",
   "execution_count": 3,
   "metadata": {
    "collapsed": false
   },
   "outputs": [
    {
     "name": "stdout",
     "output_type": "stream",
     "text": [
      "<class 'pandas.core.frame.DataFrame'>\n",
      "RangeIndex: 930 entries, 0 to 929\n",
      "Data columns (total 2 columns):\n",
      "label_id    930 non-null int64\n",
      "category    927 non-null object\n",
      "dtypes: int64(1), object(1)\n",
      "memory usage: 14.6+ KB\n"
     ]
    }
   ],
   "source": [
    "categories.info()"
   ]
  },
  {
   "cell_type": "code",
   "execution_count": 4,
   "metadata": {
    "collapsed": false
   },
   "outputs": [
    {
     "data": {
      "text/html": [
       "<div>\n",
       "<table border=\"1\" class=\"dataframe\">\n",
       "  <thead>\n",
       "    <tr style=\"text-align: right;\">\n",
       "      <th></th>\n",
       "      <th>label_id</th>\n",
       "      <th>category</th>\n",
       "    </tr>\n",
       "  </thead>\n",
       "  <tbody>\n",
       "    <tr>\n",
       "      <th>0</th>\n",
       "      <td>1</td>\n",
       "      <td>NaN</td>\n",
       "    </tr>\n",
       "    <tr>\n",
       "      <th>1</th>\n",
       "      <td>2</td>\n",
       "      <td>game-game type</td>\n",
       "    </tr>\n",
       "    <tr>\n",
       "      <th>2</th>\n",
       "      <td>3</td>\n",
       "      <td>game-Game themes</td>\n",
       "    </tr>\n",
       "    <tr>\n",
       "      <th>3</th>\n",
       "      <td>4</td>\n",
       "      <td>game-Art Style</td>\n",
       "    </tr>\n",
       "    <tr>\n",
       "      <th>4</th>\n",
       "      <td>5</td>\n",
       "      <td>game-Leisure time</td>\n",
       "    </tr>\n",
       "  </tbody>\n",
       "</table>\n",
       "</div>"
      ],
      "text/plain": [
       "   label_id           category\n",
       "0         1                NaN\n",
       "1         2     game-game type\n",
       "2         3   game-Game themes\n",
       "3         4     game-Art Style\n",
       "4         5  game-Leisure time"
      ]
     },
     "execution_count": 4,
     "metadata": {},
     "output_type": "execute_result"
    }
   ],
   "source": [
    "categories.head()"
   ]
  },
  {
   "cell_type": "code",
   "execution_count": 29,
   "metadata": {
    "collapsed": false
   },
   "outputs": [
    {
     "data": {
      "text/html": [
       "<div>\n",
       "<table border=\"1\" class=\"dataframe\">\n",
       "  <thead>\n",
       "    <tr style=\"text-align: right;\">\n",
       "      <th></th>\n",
       "      <th>label_id</th>\n",
       "    </tr>\n",
       "  </thead>\n",
       "  <tbody>\n",
       "    <tr>\n",
       "      <th>count</th>\n",
       "      <td>930.000000</td>\n",
       "    </tr>\n",
       "    <tr>\n",
       "      <th>mean</th>\n",
       "      <td>517.080645</td>\n",
       "    </tr>\n",
       "    <tr>\n",
       "      <th>std</th>\n",
       "      <td>297.858790</td>\n",
       "    </tr>\n",
       "    <tr>\n",
       "      <th>min</th>\n",
       "      <td>1.000000</td>\n",
       "    </tr>\n",
       "    <tr>\n",
       "      <th>25%</th>\n",
       "      <td>251.250000</td>\n",
       "    </tr>\n",
       "    <tr>\n",
       "      <th>50%</th>\n",
       "      <td>523.500000</td>\n",
       "    </tr>\n",
       "    <tr>\n",
       "      <th>75%</th>\n",
       "      <td>778.750000</td>\n",
       "    </tr>\n",
       "    <tr>\n",
       "      <th>max</th>\n",
       "      <td>1021.000000</td>\n",
       "    </tr>\n",
       "  </tbody>\n",
       "</table>\n",
       "</div>"
      ],
      "text/plain": [
       "          label_id\n",
       "count   930.000000\n",
       "mean    517.080645\n",
       "std     297.858790\n",
       "min       1.000000\n",
       "25%     251.250000\n",
       "50%     523.500000\n",
       "75%     778.750000\n",
       "max    1021.000000"
      ]
     },
     "execution_count": 29,
     "metadata": {},
     "output_type": "execute_result"
    }
   ],
   "source": [
    "categories.describe()"
   ]
  },
  {
   "cell_type": "code",
   "execution_count": 30,
   "metadata": {
    "collapsed": false
   },
   "outputs": [
    {
     "data": {
      "text/plain": [
       "930"
      ]
     },
     "execution_count": 30,
     "metadata": {},
     "output_type": "execute_result"
    }
   ],
   "source": [
    "len(categories.label_id.unique())"
   ]
  },
  {
   "cell_type": "code",
   "execution_count": 31,
   "metadata": {
    "collapsed": false
   },
   "outputs": [
    {
     "data": {
      "text/html": [
       "<div>\n",
       "<table border=\"1\" class=\"dataframe\">\n",
       "  <thead>\n",
       "    <tr style=\"text-align: right;\">\n",
       "      <th></th>\n",
       "      <th>label_id</th>\n",
       "      <th>category</th>\n",
       "    </tr>\n",
       "  </thead>\n",
       "  <tbody>\n",
       "    <tr>\n",
       "      <th>0</th>\n",
       "      <td>1</td>\n",
       "      <td>NaN</td>\n",
       "    </tr>\n",
       "    <tr>\n",
       "      <th>1</th>\n",
       "      <td>2</td>\n",
       "      <td>game-game type</td>\n",
       "    </tr>\n",
       "    <tr>\n",
       "      <th>2</th>\n",
       "      <td>3</td>\n",
       "      <td>game-Game themes</td>\n",
       "    </tr>\n",
       "    <tr>\n",
       "      <th>3</th>\n",
       "      <td>4</td>\n",
       "      <td>game-Art Style</td>\n",
       "    </tr>\n",
       "    <tr>\n",
       "      <th>4</th>\n",
       "      <td>5</td>\n",
       "      <td>game-Leisure time</td>\n",
       "    </tr>\n",
       "    <tr>\n",
       "      <th>5</th>\n",
       "      <td>6</td>\n",
       "      <td>game-Cutting things</td>\n",
       "    </tr>\n",
       "    <tr>\n",
       "      <th>6</th>\n",
       "      <td>7</td>\n",
       "      <td>game-Finding fault</td>\n",
       "    </tr>\n",
       "    <tr>\n",
       "      <th>7</th>\n",
       "      <td>8</td>\n",
       "      <td>game-stress reliever</td>\n",
       "    </tr>\n",
       "    <tr>\n",
       "      <th>8</th>\n",
       "      <td>9</td>\n",
       "      <td>game-pet</td>\n",
       "    </tr>\n",
       "    <tr>\n",
       "      <th>9</th>\n",
       "      <td>10</td>\n",
       "      <td>game-Answer</td>\n",
       "    </tr>\n",
       "    <tr>\n",
       "      <th>10</th>\n",
       "      <td>11</td>\n",
       "      <td>game-Fishing</td>\n",
       "    </tr>\n",
       "    <tr>\n",
       "      <th>11</th>\n",
       "      <td>12</td>\n",
       "      <td>game-Music and Dance</td>\n",
       "    </tr>\n",
       "    <tr>\n",
       "      <th>12</th>\n",
       "      <td>13</td>\n",
       "      <td>game-Puzzle</td>\n",
       "    </tr>\n",
       "    <tr>\n",
       "      <th>13</th>\n",
       "      <td>14</td>\n",
       "      <td>game-Adventure puzzle</td>\n",
       "    </tr>\n",
       "    <tr>\n",
       "      <th>14</th>\n",
       "      <td>15</td>\n",
       "      <td>game-Parkour Racing</td>\n",
       "    </tr>\n",
       "    <tr>\n",
       "      <th>15</th>\n",
       "      <td>16</td>\n",
       "      <td>game-Parkour</td>\n",
       "    </tr>\n",
       "    <tr>\n",
       "      <th>16</th>\n",
       "      <td>17</td>\n",
       "      <td>game-Racing</td>\n",
       "    </tr>\n",
       "    <tr>\n",
       "      <th>17</th>\n",
       "      <td>18</td>\n",
       "      <td>game-Motorcycle</td>\n",
       "    </tr>\n",
       "    <tr>\n",
       "      <th>18</th>\n",
       "      <td>19</td>\n",
       "      <td>game-Rowing</td>\n",
       "    </tr>\n",
       "    <tr>\n",
       "      <th>19</th>\n",
       "      <td>20</td>\n",
       "      <td>game-aircraft</td>\n",
       "    </tr>\n",
       "  </tbody>\n",
       "</table>\n",
       "</div>"
      ],
      "text/plain": [
       "    label_id               category\n",
       "0          1                    NaN\n",
       "1          2         game-game type\n",
       "2          3       game-Game themes\n",
       "3          4         game-Art Style\n",
       "4          5      game-Leisure time\n",
       "5          6    game-Cutting things\n",
       "6          7     game-Finding fault\n",
       "7          8   game-stress reliever\n",
       "8          9               game-pet\n",
       "9         10            game-Answer\n",
       "10        11           game-Fishing\n",
       "11        12   game-Music and Dance\n",
       "12        13            game-Puzzle\n",
       "13        14  game-Adventure puzzle\n",
       "14        15    game-Parkour Racing\n",
       "15        16           game-Parkour\n",
       "16        17            game-Racing\n",
       "17        18        game-Motorcycle\n",
       "18        19            game-Rowing\n",
       "19        20          game-aircraft"
      ]
     },
     "execution_count": 31,
     "metadata": {},
     "output_type": "execute_result"
    }
   ],
   "source": [
    "categories.head(20)"
   ]
  },
  {
   "cell_type": "markdown",
   "metadata": {},
   "source": [
    "# Phone"
   ]
  },
  {
   "cell_type": "code",
   "execution_count": 3,
   "metadata": {
    "collapsed": false
   },
   "outputs": [
    {
     "name": "stdout",
     "output_type": "stream",
     "text": [
      "<class 'pandas.core.frame.DataFrame'>\n",
      "RangeIndex: 187245 entries, 0 to 187244\n",
      "Data columns (total 3 columns):\n",
      "device_id       187245 non-null int64\n",
      "phone_brand     187245 non-null object\n",
      "device_model    187245 non-null object\n",
      "dtypes: int64(1), object(2)\n",
      "memory usage: 4.3+ MB\n"
     ]
    }
   ],
   "source": [
    "phone.info()"
   ]
  },
  {
   "cell_type": "code",
   "execution_count": 4,
   "metadata": {
    "collapsed": false
   },
   "outputs": [
    {
     "data": {
      "text/html": [
       "<div>\n",
       "<table border=\"1\" class=\"dataframe\">\n",
       "  <thead>\n",
       "    <tr style=\"text-align: right;\">\n",
       "      <th></th>\n",
       "      <th>device_id</th>\n",
       "      <th>phone_brand</th>\n",
       "      <th>device_model</th>\n",
       "    </tr>\n",
       "  </thead>\n",
       "  <tbody>\n",
       "    <tr>\n",
       "      <th>0</th>\n",
       "      <td>-8890648629457979026</td>\n",
       "      <td>小米</td>\n",
       "      <td>红米</td>\n",
       "    </tr>\n",
       "    <tr>\n",
       "      <th>1</th>\n",
       "      <td>1277779817574759137</td>\n",
       "      <td>小米</td>\n",
       "      <td>MI 2</td>\n",
       "    </tr>\n",
       "    <tr>\n",
       "      <th>2</th>\n",
       "      <td>5137427614288105724</td>\n",
       "      <td>三星</td>\n",
       "      <td>Galaxy S4</td>\n",
       "    </tr>\n",
       "    <tr>\n",
       "      <th>3</th>\n",
       "      <td>3669464369358936369</td>\n",
       "      <td>SUGAR</td>\n",
       "      <td>时尚手机</td>\n",
       "    </tr>\n",
       "    <tr>\n",
       "      <th>4</th>\n",
       "      <td>-5019277647504317457</td>\n",
       "      <td>三星</td>\n",
       "      <td>Galaxy Note 2</td>\n",
       "    </tr>\n",
       "  </tbody>\n",
       "</table>\n",
       "</div>"
      ],
      "text/plain": [
       "             device_id phone_brand   device_model\n",
       "0 -8890648629457979026          小米             红米\n",
       "1  1277779817574759137          小米           MI 2\n",
       "2  5137427614288105724          三星      Galaxy S4\n",
       "3  3669464369358936369       SUGAR           时尚手机\n",
       "4 -5019277647504317457          三星  Galaxy Note 2"
      ]
     },
     "execution_count": 4,
     "metadata": {},
     "output_type": "execute_result"
    }
   ],
   "source": [
    "phone.head()"
   ]
  },
  {
   "cell_type": "code",
   "execution_count": 9,
   "metadata": {
    "collapsed": false
   },
   "outputs": [
    {
     "data": {
      "text/plain": [
       "小米      43210\n",
       "三星      34286\n",
       "华为      32564\n",
       "vivo    14395\n",
       "OPPO    14289\n",
       "魅族      11853\n",
       "酷派       8407\n",
       "联想       6761\n",
       "金立       2768\n",
       "HTC      2682\n",
       "中兴       2096\n",
       "乐视       1930\n",
       "索尼       1821\n",
       "努比亚      1144\n",
       "LG        763\n",
       "中国移动      671\n",
       "TCL       586\n",
       "朵唯        544\n",
       "锤子        535\n",
       "优米        492\n",
       "海信        489\n",
       "一加        438\n",
       "语信        396\n",
       "奇酷        378\n",
       "天语        376\n",
       "摩托罗拉      228\n",
       "酷比        165\n",
       "ZUK       153\n",
       "酷比魔方      152\n",
       "美图        151\n",
       "        ...  \n",
       "优语          5\n",
       "欧乐迪         5\n",
       "唯比          4\n",
       "惠普          4\n",
       "宝捷讯         4\n",
       "本为          4\n",
       "天宏时代        4\n",
       "丰米          3\n",
       "鲜米          3\n",
       "大显          3\n",
       "恒宇丰         2\n",
       "世纪星         2\n",
       "赛博宇华        2\n",
       "戴尔          2\n",
       "原点          2\n",
       "凯利通         2\n",
       "MIL         2\n",
       "飞秒          2\n",
       "E人E本        1\n",
       "ZOYE        1\n",
       "瑞高          1\n",
       "碟米          1\n",
       "欧乐酷         1\n",
       "西门子         1\n",
       "帷幄          1\n",
       "亚马逊         1\n",
       "德卡诺         1\n",
       "嘉源          1\n",
       "极米          1\n",
       "宏碁          1\n",
       "Name: phone_brand, dtype: int64"
      ]
     },
     "execution_count": 9,
     "metadata": {},
     "output_type": "execute_result"
    }
   ],
   "source": [
    "phone.phone_brand.value_counts()"
   ]
  },
  {
   "cell_type": "code",
   "execution_count": 11,
   "metadata": {
    "collapsed": false
   },
   "outputs": [
    {
     "data": {
      "text/plain": [
       "131"
      ]
     },
     "execution_count": 11,
     "metadata": {},
     "output_type": "execute_result"
    }
   ],
   "source": [
    "len(phone.phone_brand.unique())"
   ]
  },
  {
   "cell_type": "code",
   "execution_count": 3,
   "metadata": {
    "collapsed": false
   },
   "outputs": [
    {
     "data": {
      "text/plain": [
       "count    1599.000000\n",
       "mean      117.101313\n",
       "std       439.583161\n",
       "min         1.000000\n",
       "25%         5.000000\n",
       "50%        15.000000\n",
       "75%        57.500000\n",
       "max      7358.000000\n",
       "Name: device_model, dtype: float64"
      ]
     },
     "execution_count": 3,
     "metadata": {},
     "output_type": "execute_result"
    }
   ],
   "source": [
    "models = phone.device_model.value_counts()\n",
    "models.describe()"
   ]
  },
  {
   "cell_type": "code",
   "execution_count": 10,
   "metadata": {
    "collapsed": false
   },
   "outputs": [
    {
     "data": {
      "text/plain": [
       "121"
      ]
     },
     "execution_count": 10,
     "metadata": {},
     "output_type": "execute_result"
    }
   ],
   "source": [
    "len(models[models > 300])"
   ]
  },
  {
   "cell_type": "code",
   "execution_count": 3,
   "metadata": {
    "collapsed": false
   },
   "outputs": [
    {
     "data": {
      "text/plain": [
       "1599"
      ]
     },
     "execution_count": 3,
     "metadata": {},
     "output_type": "execute_result"
    }
   ],
   "source": [
    "len(phone.device_model.unique())"
   ]
  },
  {
   "cell_type": "code",
   "execution_count": 4,
   "metadata": {
    "collapsed": false
   },
   "outputs": [
    {
     "data": {
      "text/plain": [
       "288"
      ]
     },
     "execution_count": 4,
     "metadata": {},
     "output_type": "execute_result"
    }
   ],
   "source": [
    "#phone['combo'] = phone.apply(lambda x: ' '.join(x[['phone_brand', 'device_model']]))\n",
    "phone['combo'] = phone.phone_brand.str.cat(phone.device_model)\n",
    "len(phone['combo'].value_counts())\n",
    "models = phone.combo.value_counts()\n",
    "len(models[models > 100])"
   ]
  },
  {
   "cell_type": "code",
   "execution_count": 5,
   "metadata": {
    "collapsed": false
   },
   "outputs": [
    {
     "data": {
      "text/html": [
       "<div>\n",
       "<table border=\"1\" class=\"dataframe\">\n",
       "  <thead>\n",
       "    <tr style=\"text-align: right;\">\n",
       "      <th></th>\n",
       "      <th>device_id</th>\n",
       "      <th>gender</th>\n",
       "      <th>age</th>\n",
       "      <th>group</th>\n",
       "      <th>phone_brand</th>\n",
       "      <th>device_model</th>\n",
       "      <th>combo</th>\n",
       "    </tr>\n",
       "  </thead>\n",
       "  <tbody>\n",
       "    <tr>\n",
       "      <th>0</th>\n",
       "      <td>-8076087639492063270</td>\n",
       "      <td>M</td>\n",
       "      <td>35</td>\n",
       "      <td>M32-38</td>\n",
       "      <td>小米</td>\n",
       "      <td>MI 2</td>\n",
       "      <td>小米MI 2</td>\n",
       "    </tr>\n",
       "    <tr>\n",
       "      <th>1</th>\n",
       "      <td>-2897161552818060146</td>\n",
       "      <td>M</td>\n",
       "      <td>35</td>\n",
       "      <td>M32-38</td>\n",
       "      <td>小米</td>\n",
       "      <td>MI 2</td>\n",
       "      <td>小米MI 2</td>\n",
       "    </tr>\n",
       "    <tr>\n",
       "      <th>2</th>\n",
       "      <td>-8260683887967679142</td>\n",
       "      <td>M</td>\n",
       "      <td>35</td>\n",
       "      <td>M32-38</td>\n",
       "      <td>小米</td>\n",
       "      <td>MI 2</td>\n",
       "      <td>小米MI 2</td>\n",
       "    </tr>\n",
       "    <tr>\n",
       "      <th>3</th>\n",
       "      <td>-4938849341048082022</td>\n",
       "      <td>M</td>\n",
       "      <td>30</td>\n",
       "      <td>M29-31</td>\n",
       "      <td>小米</td>\n",
       "      <td>红米note</td>\n",
       "      <td>小米红米note</td>\n",
       "    </tr>\n",
       "    <tr>\n",
       "      <th>4</th>\n",
       "      <td>245133531816851882</td>\n",
       "      <td>M</td>\n",
       "      <td>30</td>\n",
       "      <td>M29-31</td>\n",
       "      <td>小米</td>\n",
       "      <td>MI 3</td>\n",
       "      <td>小米MI 3</td>\n",
       "    </tr>\n",
       "  </tbody>\n",
       "</table>\n",
       "</div>"
      ],
      "text/plain": [
       "             device_id gender  age   group phone_brand device_model     combo\n",
       "0 -8076087639492063270      M   35  M32-38          小米         MI 2    小米MI 2\n",
       "1 -2897161552818060146      M   35  M32-38          小米         MI 2    小米MI 2\n",
       "2 -8260683887967679142      M   35  M32-38          小米         MI 2    小米MI 2\n",
       "3 -4938849341048082022      M   30  M29-31          小米       红米note  小米红米note\n",
       "4   245133531816851882      M   30  M29-31          小米         MI 3    小米MI 3"
      ]
     },
     "execution_count": 5,
     "metadata": {},
     "output_type": "execute_result"
    }
   ],
   "source": [
    "#check to see if some of the phones' demographic breakdowns are different from average\n",
    "\n",
    "train_phone = train.merge(phone, on='device_id')\n",
    "train_phone.head()"
   ]
  },
  {
   "cell_type": "code",
   "execution_count": 6,
   "metadata": {
    "collapsed": false
   },
   "outputs": [
    {
     "data": {
      "text/html": [
       "<div>\n",
       "<table border=\"1\" class=\"dataframe\">\n",
       "  <thead>\n",
       "    <tr style=\"text-align: right;\">\n",
       "      <th></th>\n",
       "      <th>device_id</th>\n",
       "      <th>gender</th>\n",
       "      <th>age</th>\n",
       "      <th>group</th>\n",
       "      <th>phone_brand</th>\n",
       "      <th>device_model</th>\n",
       "      <th>combo</th>\n",
       "    </tr>\n",
       "  </thead>\n",
       "  <tbody>\n",
       "    <tr>\n",
       "      <th>0</th>\n",
       "      <td>-8076087639492063270</td>\n",
       "      <td>M</td>\n",
       "      <td>35</td>\n",
       "      <td>M32-38</td>\n",
       "      <td>小米</td>\n",
       "      <td>MI 2</td>\n",
       "      <td>小米MI 2</td>\n",
       "    </tr>\n",
       "    <tr>\n",
       "      <th>1</th>\n",
       "      <td>-2897161552818060146</td>\n",
       "      <td>M</td>\n",
       "      <td>35</td>\n",
       "      <td>M32-38</td>\n",
       "      <td>小米</td>\n",
       "      <td>MI 2</td>\n",
       "      <td>小米MI 2</td>\n",
       "    </tr>\n",
       "    <tr>\n",
       "      <th>2</th>\n",
       "      <td>-8260683887967679142</td>\n",
       "      <td>M</td>\n",
       "      <td>35</td>\n",
       "      <td>M32-38</td>\n",
       "      <td>小米</td>\n",
       "      <td>MI 2</td>\n",
       "      <td>小米MI 2</td>\n",
       "    </tr>\n",
       "    <tr>\n",
       "      <th>3</th>\n",
       "      <td>-4938849341048082022</td>\n",
       "      <td>M</td>\n",
       "      <td>30</td>\n",
       "      <td>M29-31</td>\n",
       "      <td>小米</td>\n",
       "      <td>红米note</td>\n",
       "      <td>小米红米note</td>\n",
       "    </tr>\n",
       "    <tr>\n",
       "      <th>4</th>\n",
       "      <td>245133531816851882</td>\n",
       "      <td>M</td>\n",
       "      <td>30</td>\n",
       "      <td>M29-31</td>\n",
       "      <td>小米</td>\n",
       "      <td>MI 3</td>\n",
       "      <td>小米MI 3</td>\n",
       "    </tr>\n",
       "    <tr>\n",
       "      <th>5</th>\n",
       "      <td>-1297074871525174196</td>\n",
       "      <td>F</td>\n",
       "      <td>24</td>\n",
       "      <td>F24-26</td>\n",
       "      <td>OPPO</td>\n",
       "      <td>R1C</td>\n",
       "      <td>OPPOR1C</td>\n",
       "    </tr>\n",
       "    <tr>\n",
       "      <th>6</th>\n",
       "      <td>236877999787307864</td>\n",
       "      <td>M</td>\n",
       "      <td>36</td>\n",
       "      <td>M32-38</td>\n",
       "      <td>酷派</td>\n",
       "      <td>F2</td>\n",
       "      <td>酷派F2</td>\n",
       "    </tr>\n",
       "    <tr>\n",
       "      <th>7</th>\n",
       "      <td>-8098239495777311881</td>\n",
       "      <td>M</td>\n",
       "      <td>38</td>\n",
       "      <td>M32-38</td>\n",
       "      <td>小米</td>\n",
       "      <td>红米note</td>\n",
       "      <td>小米红米note</td>\n",
       "    </tr>\n",
       "    <tr>\n",
       "      <th>8</th>\n",
       "      <td>176515041953473526</td>\n",
       "      <td>M</td>\n",
       "      <td>33</td>\n",
       "      <td>M32-38</td>\n",
       "      <td>vivo</td>\n",
       "      <td>X3T</td>\n",
       "      <td>vivoX3T</td>\n",
       "    </tr>\n",
       "    <tr>\n",
       "      <th>9</th>\n",
       "      <td>1596610250680140042</td>\n",
       "      <td>F</td>\n",
       "      <td>36</td>\n",
       "      <td>F33-42</td>\n",
       "      <td>三星</td>\n",
       "      <td>Galaxy S4</td>\n",
       "      <td>三星Galaxy S4</td>\n",
       "    </tr>\n",
       "  </tbody>\n",
       "</table>\n",
       "</div>"
      ],
      "text/plain": [
       "             device_id gender  age   group phone_brand device_model  \\\n",
       "0 -8076087639492063270      M   35  M32-38          小米         MI 2   \n",
       "1 -2897161552818060146      M   35  M32-38          小米         MI 2   \n",
       "2 -8260683887967679142      M   35  M32-38          小米         MI 2   \n",
       "3 -4938849341048082022      M   30  M29-31          小米       红米note   \n",
       "4   245133531816851882      M   30  M29-31          小米         MI 3   \n",
       "5 -1297074871525174196      F   24  F24-26        OPPO          R1C   \n",
       "6   236877999787307864      M   36  M32-38          酷派           F2   \n",
       "7 -8098239495777311881      M   38  M32-38          小米       红米note   \n",
       "8   176515041953473526      M   33  M32-38        vivo          X3T   \n",
       "9  1596610250680140042      F   36  F33-42          三星    Galaxy S4   \n",
       "\n",
       "         combo  \n",
       "0       小米MI 2  \n",
       "1       小米MI 2  \n",
       "2       小米MI 2  \n",
       "3     小米红米note  \n",
       "4       小米MI 3  \n",
       "5      OPPOR1C  \n",
       "6         酷派F2  \n",
       "7     小米红米note  \n",
       "8      vivoX3T  \n",
       "9  三星Galaxy S4  "
      ]
     },
     "execution_count": 6,
     "metadata": {},
     "output_type": "execute_result"
    }
   ],
   "source": [
    "phonegroups = train_phone.groupby('combo').filter(lambda x: len(x) > 100)\n",
    "\n",
    "phonegroups.head(10)"
   ]
  },
  {
   "cell_type": "code",
   "execution_count": 14,
   "metadata": {
    "collapsed": false,
    "scrolled": true
   },
   "outputs": [
    {
     "data": {
      "text/html": [
       "<div>\n",
       "<table border=\"1\" class=\"dataframe\">\n",
       "  <thead>\n",
       "    <tr style=\"text-align: right;\">\n",
       "      <th></th>\n",
       "      <th></th>\n",
       "      <th>device_id</th>\n",
       "    </tr>\n",
       "    <tr>\n",
       "      <th>combo</th>\n",
       "      <th>group</th>\n",
       "      <th></th>\n",
       "    </tr>\n",
       "  </thead>\n",
       "  <tbody>\n",
       "    <tr>\n",
       "      <th rowspan=\"12\" valign=\"top\">HTCDesire 816</th>\n",
       "      <th>F23-</th>\n",
       "      <td>17</td>\n",
       "    </tr>\n",
       "    <tr>\n",
       "      <th>F24-26</th>\n",
       "      <td>13</td>\n",
       "    </tr>\n",
       "    <tr>\n",
       "      <th>F27-28</th>\n",
       "      <td>3</td>\n",
       "    </tr>\n",
       "    <tr>\n",
       "      <th>F29-32</th>\n",
       "      <td>9</td>\n",
       "    </tr>\n",
       "    <tr>\n",
       "      <th>F33-42</th>\n",
       "      <td>14</td>\n",
       "    </tr>\n",
       "    <tr>\n",
       "      <th>F43+</th>\n",
       "      <td>7</td>\n",
       "    </tr>\n",
       "    <tr>\n",
       "      <th>M22-</th>\n",
       "      <td>31</td>\n",
       "    </tr>\n",
       "    <tr>\n",
       "      <th>M23-26</th>\n",
       "      <td>23</td>\n",
       "    </tr>\n",
       "    <tr>\n",
       "      <th>M27-28</th>\n",
       "      <td>8</td>\n",
       "    </tr>\n",
       "    <tr>\n",
       "      <th>M29-31</th>\n",
       "      <td>23</td>\n",
       "    </tr>\n",
       "    <tr>\n",
       "      <th>M32-38</th>\n",
       "      <td>33</td>\n",
       "    </tr>\n",
       "    <tr>\n",
       "      <th>M39+</th>\n",
       "      <td>21</td>\n",
       "    </tr>\n",
       "    <tr>\n",
       "      <th rowspan=\"8\" valign=\"top\">HTCOne</th>\n",
       "      <th>F23-</th>\n",
       "      <td>9</td>\n",
       "    </tr>\n",
       "    <tr>\n",
       "      <th>F24-26</th>\n",
       "      <td>3</td>\n",
       "    </tr>\n",
       "    <tr>\n",
       "      <th>F29-32</th>\n",
       "      <td>11</td>\n",
       "    </tr>\n",
       "    <tr>\n",
       "      <th>F33-42</th>\n",
       "      <td>3</td>\n",
       "    </tr>\n",
       "    <tr>\n",
       "      <th>F43+</th>\n",
       "      <td>18</td>\n",
       "    </tr>\n",
       "    <tr>\n",
       "      <th>M22-</th>\n",
       "      <td>14</td>\n",
       "    </tr>\n",
       "    <tr>\n",
       "      <th>M23-26</th>\n",
       "      <td>30</td>\n",
       "    </tr>\n",
       "    <tr>\n",
       "      <th>M27-28</th>\n",
       "      <td>11</td>\n",
       "    </tr>\n",
       "  </tbody>\n",
       "</table>\n",
       "</div>"
      ],
      "text/plain": [
       "                      device_id\n",
       "combo         group            \n",
       "HTCDesire 816 F23-           17\n",
       "              F24-26         13\n",
       "              F27-28          3\n",
       "              F29-32          9\n",
       "              F33-42         14\n",
       "              F43+            7\n",
       "              M22-           31\n",
       "              M23-26         23\n",
       "              M27-28          8\n",
       "              M29-31         23\n",
       "              M32-38         33\n",
       "              M39+           21\n",
       "HTCOne        F23-            9\n",
       "              F24-26          3\n",
       "              F29-32         11\n",
       "              F33-42          3\n",
       "              F43+           18\n",
       "              M22-           14\n",
       "              M23-26         30\n",
       "              M27-28         11"
      ]
     },
     "execution_count": 14,
     "metadata": {},
     "output_type": "execute_result"
    }
   ],
   "source": [
    "phonegroupbreakdown = phonegroups.groupby(['combo', 'group'])[['device_id']].count()\n",
    "phonegroupbreakdown.head(20)"
   ]
  },
  {
   "cell_type": "code",
   "execution_count": 16,
   "metadata": {
    "collapsed": false
   },
   "outputs": [
    {
     "data": {
      "text/html": [
       "<div>\n",
       "<table border=\"1\" class=\"dataframe\">\n",
       "  <thead>\n",
       "    <tr style=\"text-align: right;\">\n",
       "      <th></th>\n",
       "      <th></th>\n",
       "      <th>device_id</th>\n",
       "    </tr>\n",
       "    <tr>\n",
       "      <th>combo</th>\n",
       "      <th>group</th>\n",
       "      <th></th>\n",
       "    </tr>\n",
       "  </thead>\n",
       "  <tbody>\n",
       "    <tr>\n",
       "      <th rowspan=\"12\" valign=\"top\">HTCDesire 816</th>\n",
       "      <th>F23-</th>\n",
       "      <td>8.415842</td>\n",
       "    </tr>\n",
       "    <tr>\n",
       "      <th>F24-26</th>\n",
       "      <td>6.435644</td>\n",
       "    </tr>\n",
       "    <tr>\n",
       "      <th>F27-28</th>\n",
       "      <td>1.485149</td>\n",
       "    </tr>\n",
       "    <tr>\n",
       "      <th>F29-32</th>\n",
       "      <td>4.455446</td>\n",
       "    </tr>\n",
       "    <tr>\n",
       "      <th>F33-42</th>\n",
       "      <td>6.930693</td>\n",
       "    </tr>\n",
       "    <tr>\n",
       "      <th>F43+</th>\n",
       "      <td>3.465347</td>\n",
       "    </tr>\n",
       "    <tr>\n",
       "      <th>M22-</th>\n",
       "      <td>15.346535</td>\n",
       "    </tr>\n",
       "    <tr>\n",
       "      <th>M23-26</th>\n",
       "      <td>11.386139</td>\n",
       "    </tr>\n",
       "    <tr>\n",
       "      <th>M27-28</th>\n",
       "      <td>3.960396</td>\n",
       "    </tr>\n",
       "    <tr>\n",
       "      <th>M29-31</th>\n",
       "      <td>11.386139</td>\n",
       "    </tr>\n",
       "    <tr>\n",
       "      <th>M32-38</th>\n",
       "      <td>16.336634</td>\n",
       "    </tr>\n",
       "    <tr>\n",
       "      <th>M39+</th>\n",
       "      <td>10.396040</td>\n",
       "    </tr>\n",
       "    <tr>\n",
       "      <th rowspan=\"11\" valign=\"top\">HTCOne</th>\n",
       "      <th>F23-</th>\n",
       "      <td>5.806452</td>\n",
       "    </tr>\n",
       "    <tr>\n",
       "      <th>F24-26</th>\n",
       "      <td>1.935484</td>\n",
       "    </tr>\n",
       "    <tr>\n",
       "      <th>F29-32</th>\n",
       "      <td>7.096774</td>\n",
       "    </tr>\n",
       "    <tr>\n",
       "      <th>F33-42</th>\n",
       "      <td>1.935484</td>\n",
       "    </tr>\n",
       "    <tr>\n",
       "      <th>F43+</th>\n",
       "      <td>11.612903</td>\n",
       "    </tr>\n",
       "    <tr>\n",
       "      <th>M22-</th>\n",
       "      <td>9.032258</td>\n",
       "    </tr>\n",
       "    <tr>\n",
       "      <th>M23-26</th>\n",
       "      <td>19.354839</td>\n",
       "    </tr>\n",
       "    <tr>\n",
       "      <th>M27-28</th>\n",
       "      <td>7.096774</td>\n",
       "    </tr>\n",
       "    <tr>\n",
       "      <th>M29-31</th>\n",
       "      <td>15.483871</td>\n",
       "    </tr>\n",
       "    <tr>\n",
       "      <th>M32-38</th>\n",
       "      <td>12.258065</td>\n",
       "    </tr>\n",
       "    <tr>\n",
       "      <th>M39+</th>\n",
       "      <td>8.387097</td>\n",
       "    </tr>\n",
       "    <tr>\n",
       "      <th rowspan=\"7\" valign=\"top\">OPPO1107</th>\n",
       "      <th>F23-</th>\n",
       "      <td>12.903226</td>\n",
       "    </tr>\n",
       "    <tr>\n",
       "      <th>F24-26</th>\n",
       "      <td>4.032258</td>\n",
       "    </tr>\n",
       "    <tr>\n",
       "      <th>F27-28</th>\n",
       "      <td>4.838710</td>\n",
       "    </tr>\n",
       "    <tr>\n",
       "      <th>F29-32</th>\n",
       "      <td>4.032258</td>\n",
       "    </tr>\n",
       "    <tr>\n",
       "      <th>F33-42</th>\n",
       "      <td>9.677419</td>\n",
       "    </tr>\n",
       "    <tr>\n",
       "      <th>F43+</th>\n",
       "      <td>4.032258</td>\n",
       "    </tr>\n",
       "    <tr>\n",
       "      <th>M22-</th>\n",
       "      <td>16.129032</td>\n",
       "    </tr>\n",
       "    <tr>\n",
       "      <th>...</th>\n",
       "      <th>...</th>\n",
       "      <td>...</td>\n",
       "    </tr>\n",
       "    <tr>\n",
       "      <th rowspan=\"6\" valign=\"top\">魅族魅蓝NOTE</th>\n",
       "      <th>M22-</th>\n",
       "      <td>18.386714</td>\n",
       "    </tr>\n",
       "    <tr>\n",
       "      <th>M23-26</th>\n",
       "      <td>16.963227</td>\n",
       "    </tr>\n",
       "    <tr>\n",
       "      <th>M27-28</th>\n",
       "      <td>7.591934</td>\n",
       "    </tr>\n",
       "    <tr>\n",
       "      <th>M29-31</th>\n",
       "      <td>8.659549</td>\n",
       "    </tr>\n",
       "    <tr>\n",
       "      <th>M32-38</th>\n",
       "      <td>12.811388</td>\n",
       "    </tr>\n",
       "    <tr>\n",
       "      <th>M39+</th>\n",
       "      <td>6.880190</td>\n",
       "    </tr>\n",
       "    <tr>\n",
       "      <th rowspan=\"12\" valign=\"top\">魅族魅蓝Note 2</th>\n",
       "      <th>F23-</th>\n",
       "      <td>8.321377</td>\n",
       "    </tr>\n",
       "    <tr>\n",
       "      <th>F24-26</th>\n",
       "      <td>5.595409</td>\n",
       "    </tr>\n",
       "    <tr>\n",
       "      <th>F27-28</th>\n",
       "      <td>4.017217</td>\n",
       "    </tr>\n",
       "    <tr>\n",
       "      <th>F29-32</th>\n",
       "      <td>5.882353</td>\n",
       "    </tr>\n",
       "    <tr>\n",
       "      <th>F33-42</th>\n",
       "      <td>3.730273</td>\n",
       "    </tr>\n",
       "    <tr>\n",
       "      <th>F43+</th>\n",
       "      <td>4.017217</td>\n",
       "    </tr>\n",
       "    <tr>\n",
       "      <th>M22-</th>\n",
       "      <td>18.364419</td>\n",
       "    </tr>\n",
       "    <tr>\n",
       "      <th>M23-26</th>\n",
       "      <td>15.925395</td>\n",
       "    </tr>\n",
       "    <tr>\n",
       "      <th>M27-28</th>\n",
       "      <td>9.182209</td>\n",
       "    </tr>\n",
       "    <tr>\n",
       "      <th>M29-31</th>\n",
       "      <td>9.325681</td>\n",
       "    </tr>\n",
       "    <tr>\n",
       "      <th>M32-38</th>\n",
       "      <td>10.329986</td>\n",
       "    </tr>\n",
       "    <tr>\n",
       "      <th>M39+</th>\n",
       "      <td>5.308465</td>\n",
       "    </tr>\n",
       "    <tr>\n",
       "      <th rowspan=\"12\" valign=\"top\">魅族魅蓝metal</th>\n",
       "      <th>F23-</th>\n",
       "      <td>5.612245</td>\n",
       "    </tr>\n",
       "    <tr>\n",
       "      <th>F24-26</th>\n",
       "      <td>4.081633</td>\n",
       "    </tr>\n",
       "    <tr>\n",
       "      <th>F27-28</th>\n",
       "      <td>2.551020</td>\n",
       "    </tr>\n",
       "    <tr>\n",
       "      <th>F29-32</th>\n",
       "      <td>3.571429</td>\n",
       "    </tr>\n",
       "    <tr>\n",
       "      <th>F33-42</th>\n",
       "      <td>4.081633</td>\n",
       "    </tr>\n",
       "    <tr>\n",
       "      <th>F43+</th>\n",
       "      <td>2.551020</td>\n",
       "    </tr>\n",
       "    <tr>\n",
       "      <th>M22-</th>\n",
       "      <td>16.836735</td>\n",
       "    </tr>\n",
       "    <tr>\n",
       "      <th>M23-26</th>\n",
       "      <td>25.510204</td>\n",
       "    </tr>\n",
       "    <tr>\n",
       "      <th>M27-28</th>\n",
       "      <td>12.244898</td>\n",
       "    </tr>\n",
       "    <tr>\n",
       "      <th>M29-31</th>\n",
       "      <td>8.673469</td>\n",
       "    </tr>\n",
       "    <tr>\n",
       "      <th>M32-38</th>\n",
       "      <td>10.714286</td>\n",
       "    </tr>\n",
       "    <tr>\n",
       "      <th>M39+</th>\n",
       "      <td>3.571429</td>\n",
       "    </tr>\n",
       "  </tbody>\n",
       "</table>\n",
       "<p>1639 rows × 1 columns</p>\n",
       "</div>"
      ],
      "text/plain": [
       "                      device_id\n",
       "combo         group            \n",
       "HTCDesire 816 F23-     8.415842\n",
       "              F24-26   6.435644\n",
       "              F27-28   1.485149\n",
       "              F29-32   4.455446\n",
       "              F33-42   6.930693\n",
       "              F43+     3.465347\n",
       "              M22-    15.346535\n",
       "              M23-26  11.386139\n",
       "              M27-28   3.960396\n",
       "              M29-31  11.386139\n",
       "              M32-38  16.336634\n",
       "              M39+    10.396040\n",
       "HTCOne        F23-     5.806452\n",
       "              F24-26   1.935484\n",
       "              F29-32   7.096774\n",
       "              F33-42   1.935484\n",
       "              F43+    11.612903\n",
       "              M22-     9.032258\n",
       "              M23-26  19.354839\n",
       "              M27-28   7.096774\n",
       "              M29-31  15.483871\n",
       "              M32-38  12.258065\n",
       "              M39+     8.387097\n",
       "OPPO1107      F23-    12.903226\n",
       "              F24-26   4.032258\n",
       "              F27-28   4.838710\n",
       "              F29-32   4.032258\n",
       "              F33-42   9.677419\n",
       "              F43+     4.032258\n",
       "              M22-    16.129032\n",
       "...                         ...\n",
       "魅族魅蓝NOTE      M22-    18.386714\n",
       "              M23-26  16.963227\n",
       "              M27-28   7.591934\n",
       "              M29-31   8.659549\n",
       "              M32-38  12.811388\n",
       "              M39+     6.880190\n",
       "魅族魅蓝Note 2    F23-     8.321377\n",
       "              F24-26   5.595409\n",
       "              F27-28   4.017217\n",
       "              F29-32   5.882353\n",
       "              F33-42   3.730273\n",
       "              F43+     4.017217\n",
       "              M22-    18.364419\n",
       "              M23-26  15.925395\n",
       "              M27-28   9.182209\n",
       "              M29-31   9.325681\n",
       "              M32-38  10.329986\n",
       "              M39+     5.308465\n",
       "魅族魅蓝metal     F23-     5.612245\n",
       "              F24-26   4.081633\n",
       "              F27-28   2.551020\n",
       "              F29-32   3.571429\n",
       "              F33-42   4.081633\n",
       "              F43+     2.551020\n",
       "              M22-    16.836735\n",
       "              M23-26  25.510204\n",
       "              M27-28  12.244898\n",
       "              M29-31   8.673469\n",
       "              M32-38  10.714286\n",
       "              M39+     3.571429\n",
       "\n",
       "[1639 rows x 1 columns]"
      ]
     },
     "execution_count": 16,
     "metadata": {},
     "output_type": "execute_result"
    }
   ],
   "source": [
    "phonegrouppcts = phonegroupbreakdown.groupby(level=0).apply(lambda x: 100*x/x.sum())\n",
    "phonegrouppcts"
   ]
  },
  {
   "cell_type": "code",
   "execution_count": 17,
   "metadata": {
    "collapsed": false
   },
   "outputs": [
    {
     "data": {
      "text/html": [
       "<div>\n",
       "<table border=\"1\" class=\"dataframe\">\n",
       "  <thead>\n",
       "    <tr>\n",
       "      <th></th>\n",
       "      <th colspan=\"21\" halign=\"left\">device_id</th>\n",
       "    </tr>\n",
       "    <tr>\n",
       "      <th>combo</th>\n",
       "      <th>HTCDesire 816</th>\n",
       "      <th>HTCOne</th>\n",
       "      <th>OPPO1107</th>\n",
       "      <th>OPPOA31</th>\n",
       "      <th>OPPOA33</th>\n",
       "      <th>OPPOFind 5</th>\n",
       "      <th>OPPOFind 7</th>\n",
       "      <th>OPPON1 Mini</th>\n",
       "      <th>OPPON1T</th>\n",
       "      <th>OPPOR1</th>\n",
       "      <th>...</th>\n",
       "      <th>魅族MX2</th>\n",
       "      <th>魅族MX3</th>\n",
       "      <th>魅族MX4</th>\n",
       "      <th>魅族MX4 Pro</th>\n",
       "      <th>魅族MX5</th>\n",
       "      <th>魅族魅蓝</th>\n",
       "      <th>魅族魅蓝2</th>\n",
       "      <th>魅族魅蓝NOTE</th>\n",
       "      <th>魅族魅蓝Note 2</th>\n",
       "      <th>魅族魅蓝metal</th>\n",
       "    </tr>\n",
       "    <tr>\n",
       "      <th>group</th>\n",
       "      <th></th>\n",
       "      <th></th>\n",
       "      <th></th>\n",
       "      <th></th>\n",
       "      <th></th>\n",
       "      <th></th>\n",
       "      <th></th>\n",
       "      <th></th>\n",
       "      <th></th>\n",
       "      <th></th>\n",
       "      <th></th>\n",
       "      <th></th>\n",
       "      <th></th>\n",
       "      <th></th>\n",
       "      <th></th>\n",
       "      <th></th>\n",
       "      <th></th>\n",
       "      <th></th>\n",
       "      <th></th>\n",
       "      <th></th>\n",
       "      <th></th>\n",
       "    </tr>\n",
       "  </thead>\n",
       "  <tbody>\n",
       "    <tr>\n",
       "      <th>F23-</th>\n",
       "      <td>8.415842</td>\n",
       "      <td>5.806452</td>\n",
       "      <td>12.903226</td>\n",
       "      <td>9.963100</td>\n",
       "      <td>9.734513</td>\n",
       "      <td>8.196721</td>\n",
       "      <td>7.831325</td>\n",
       "      <td>26.623377</td>\n",
       "      <td>8.849558</td>\n",
       "      <td>14.754098</td>\n",
       "      <td>...</td>\n",
       "      <td>4.851752</td>\n",
       "      <td>7.079646</td>\n",
       "      <td>5.891720</td>\n",
       "      <td>4.430380</td>\n",
       "      <td>7.648725</td>\n",
       "      <td>12.707182</td>\n",
       "      <td>8.1250</td>\n",
       "      <td>7.117438</td>\n",
       "      <td>8.321377</td>\n",
       "      <td>5.612245</td>\n",
       "    </tr>\n",
       "    <tr>\n",
       "      <th>F24-26</th>\n",
       "      <td>6.435644</td>\n",
       "      <td>1.935484</td>\n",
       "      <td>4.032258</td>\n",
       "      <td>7.380074</td>\n",
       "      <td>6.194690</td>\n",
       "      <td>10.655738</td>\n",
       "      <td>3.012048</td>\n",
       "      <td>14.935065</td>\n",
       "      <td>11.504425</td>\n",
       "      <td>5.737705</td>\n",
       "      <td>...</td>\n",
       "      <td>8.625337</td>\n",
       "      <td>7.374631</td>\n",
       "      <td>4.140127</td>\n",
       "      <td>5.379747</td>\n",
       "      <td>3.682720</td>\n",
       "      <td>4.972376</td>\n",
       "      <td>7.1875</td>\n",
       "      <td>4.626335</td>\n",
       "      <td>5.595409</td>\n",
       "      <td>4.081633</td>\n",
       "    </tr>\n",
       "    <tr>\n",
       "      <th>F27-28</th>\n",
       "      <td>1.485149</td>\n",
       "      <td>NaN</td>\n",
       "      <td>4.838710</td>\n",
       "      <td>3.690037</td>\n",
       "      <td>4.424779</td>\n",
       "      <td>3.688525</td>\n",
       "      <td>4.518072</td>\n",
       "      <td>10.389610</td>\n",
       "      <td>3.539823</td>\n",
       "      <td>2.459016</td>\n",
       "      <td>...</td>\n",
       "      <td>3.504043</td>\n",
       "      <td>3.982301</td>\n",
       "      <td>4.617834</td>\n",
       "      <td>3.481013</td>\n",
       "      <td>2.266289</td>\n",
       "      <td>1.657459</td>\n",
       "      <td>2.8125</td>\n",
       "      <td>5.219454</td>\n",
       "      <td>4.017217</td>\n",
       "      <td>2.551020</td>\n",
       "    </tr>\n",
       "    <tr>\n",
       "      <th>F29-32</th>\n",
       "      <td>4.455446</td>\n",
       "      <td>7.096774</td>\n",
       "      <td>4.032258</td>\n",
       "      <td>9.225092</td>\n",
       "      <td>10.619469</td>\n",
       "      <td>5.327869</td>\n",
       "      <td>5.120482</td>\n",
       "      <td>6.493506</td>\n",
       "      <td>11.504425</td>\n",
       "      <td>2.459016</td>\n",
       "      <td>...</td>\n",
       "      <td>4.851752</td>\n",
       "      <td>5.014749</td>\n",
       "      <td>3.821656</td>\n",
       "      <td>1.582278</td>\n",
       "      <td>3.682720</td>\n",
       "      <td>4.972376</td>\n",
       "      <td>3.7500</td>\n",
       "      <td>4.389087</td>\n",
       "      <td>5.882353</td>\n",
       "      <td>3.571429</td>\n",
       "    </tr>\n",
       "    <tr>\n",
       "      <th>F33-42</th>\n",
       "      <td>6.930693</td>\n",
       "      <td>1.935484</td>\n",
       "      <td>9.677419</td>\n",
       "      <td>7.380074</td>\n",
       "      <td>6.194690</td>\n",
       "      <td>7.377049</td>\n",
       "      <td>7.228916</td>\n",
       "      <td>7.792208</td>\n",
       "      <td>11.504425</td>\n",
       "      <td>9.016393</td>\n",
       "      <td>...</td>\n",
       "      <td>3.234501</td>\n",
       "      <td>4.719764</td>\n",
       "      <td>3.503185</td>\n",
       "      <td>3.164557</td>\n",
       "      <td>2.266289</td>\n",
       "      <td>4.419890</td>\n",
       "      <td>5.0000</td>\n",
       "      <td>4.033215</td>\n",
       "      <td>3.730273</td>\n",
       "      <td>4.081633</td>\n",
       "    </tr>\n",
       "    <tr>\n",
       "      <th>F43+</th>\n",
       "      <td>3.465347</td>\n",
       "      <td>11.612903</td>\n",
       "      <td>4.032258</td>\n",
       "      <td>2.583026</td>\n",
       "      <td>7.964602</td>\n",
       "      <td>6.967213</td>\n",
       "      <td>3.915663</td>\n",
       "      <td>1.948052</td>\n",
       "      <td>3.539823</td>\n",
       "      <td>1.639344</td>\n",
       "      <td>...</td>\n",
       "      <td>4.043127</td>\n",
       "      <td>3.244838</td>\n",
       "      <td>3.821656</td>\n",
       "      <td>1.265823</td>\n",
       "      <td>1.983003</td>\n",
       "      <td>4.419890</td>\n",
       "      <td>4.0625</td>\n",
       "      <td>3.321471</td>\n",
       "      <td>4.017217</td>\n",
       "      <td>2.551020</td>\n",
       "    </tr>\n",
       "    <tr>\n",
       "      <th>M22-</th>\n",
       "      <td>15.346535</td>\n",
       "      <td>9.032258</td>\n",
       "      <td>16.129032</td>\n",
       "      <td>13.653137</td>\n",
       "      <td>13.274336</td>\n",
       "      <td>6.967213</td>\n",
       "      <td>12.048193</td>\n",
       "      <td>7.792208</td>\n",
       "      <td>2.654867</td>\n",
       "      <td>9.836066</td>\n",
       "      <td>...</td>\n",
       "      <td>9.703504</td>\n",
       "      <td>16.519174</td>\n",
       "      <td>17.515924</td>\n",
       "      <td>18.670886</td>\n",
       "      <td>25.779037</td>\n",
       "      <td>16.022099</td>\n",
       "      <td>18.7500</td>\n",
       "      <td>18.386714</td>\n",
       "      <td>18.364419</td>\n",
       "      <td>16.836735</td>\n",
       "    </tr>\n",
       "    <tr>\n",
       "      <th>M23-26</th>\n",
       "      <td>11.386139</td>\n",
       "      <td>19.354839</td>\n",
       "      <td>11.290323</td>\n",
       "      <td>9.963100</td>\n",
       "      <td>7.964602</td>\n",
       "      <td>13.114754</td>\n",
       "      <td>13.855422</td>\n",
       "      <td>8.441558</td>\n",
       "      <td>15.929204</td>\n",
       "      <td>11.475410</td>\n",
       "      <td>...</td>\n",
       "      <td>25.336927</td>\n",
       "      <td>22.713864</td>\n",
       "      <td>20.063694</td>\n",
       "      <td>20.569620</td>\n",
       "      <td>22.379603</td>\n",
       "      <td>22.099448</td>\n",
       "      <td>17.5000</td>\n",
       "      <td>16.963227</td>\n",
       "      <td>15.925395</td>\n",
       "      <td>25.510204</td>\n",
       "    </tr>\n",
       "    <tr>\n",
       "      <th>M27-28</th>\n",
       "      <td>3.960396</td>\n",
       "      <td>7.096774</td>\n",
       "      <td>6.451613</td>\n",
       "      <td>5.904059</td>\n",
       "      <td>6.194690</td>\n",
       "      <td>8.196721</td>\n",
       "      <td>6.626506</td>\n",
       "      <td>4.545455</td>\n",
       "      <td>6.194690</td>\n",
       "      <td>11.475410</td>\n",
       "      <td>...</td>\n",
       "      <td>11.320755</td>\n",
       "      <td>8.849558</td>\n",
       "      <td>9.076433</td>\n",
       "      <td>14.556962</td>\n",
       "      <td>8.215297</td>\n",
       "      <td>9.392265</td>\n",
       "      <td>7.1875</td>\n",
       "      <td>7.591934</td>\n",
       "      <td>9.182209</td>\n",
       "      <td>12.244898</td>\n",
       "    </tr>\n",
       "    <tr>\n",
       "      <th>M29-31</th>\n",
       "      <td>11.386139</td>\n",
       "      <td>15.483871</td>\n",
       "      <td>7.258065</td>\n",
       "      <td>12.546125</td>\n",
       "      <td>8.849558</td>\n",
       "      <td>13.114754</td>\n",
       "      <td>11.445783</td>\n",
       "      <td>3.896104</td>\n",
       "      <td>6.194690</td>\n",
       "      <td>12.295082</td>\n",
       "      <td>...</td>\n",
       "      <td>9.973046</td>\n",
       "      <td>8.554572</td>\n",
       "      <td>11.305732</td>\n",
       "      <td>11.392405</td>\n",
       "      <td>10.481586</td>\n",
       "      <td>7.182320</td>\n",
       "      <td>10.6250</td>\n",
       "      <td>8.659549</td>\n",
       "      <td>9.325681</td>\n",
       "      <td>8.673469</td>\n",
       "    </tr>\n",
       "    <tr>\n",
       "      <th>M32-38</th>\n",
       "      <td>16.336634</td>\n",
       "      <td>12.258065</td>\n",
       "      <td>9.677419</td>\n",
       "      <td>11.070111</td>\n",
       "      <td>8.849558</td>\n",
       "      <td>9.016393</td>\n",
       "      <td>12.349398</td>\n",
       "      <td>3.896104</td>\n",
       "      <td>9.734513</td>\n",
       "      <td>9.016393</td>\n",
       "      <td>...</td>\n",
       "      <td>8.894879</td>\n",
       "      <td>7.374631</td>\n",
       "      <td>8.121019</td>\n",
       "      <td>9.177215</td>\n",
       "      <td>7.648725</td>\n",
       "      <td>5.524862</td>\n",
       "      <td>8.1250</td>\n",
       "      <td>12.811388</td>\n",
       "      <td>10.329986</td>\n",
       "      <td>10.714286</td>\n",
       "    </tr>\n",
       "    <tr>\n",
       "      <th>M39+</th>\n",
       "      <td>10.396040</td>\n",
       "      <td>8.387097</td>\n",
       "      <td>9.677419</td>\n",
       "      <td>6.642066</td>\n",
       "      <td>9.734513</td>\n",
       "      <td>7.377049</td>\n",
       "      <td>12.048193</td>\n",
       "      <td>3.246753</td>\n",
       "      <td>8.849558</td>\n",
       "      <td>9.836066</td>\n",
       "      <td>...</td>\n",
       "      <td>5.660377</td>\n",
       "      <td>4.572271</td>\n",
       "      <td>8.121019</td>\n",
       "      <td>6.329114</td>\n",
       "      <td>3.966006</td>\n",
       "      <td>6.629834</td>\n",
       "      <td>6.8750</td>\n",
       "      <td>6.880190</td>\n",
       "      <td>5.308465</td>\n",
       "      <td>3.571429</td>\n",
       "    </tr>\n",
       "  </tbody>\n",
       "</table>\n",
       "<p>12 rows × 137 columns</p>\n",
       "</div>"
      ],
      "text/plain": [
       "           device_id                                                         \\\n",
       "combo  HTCDesire 816     HTCOne   OPPO1107    OPPOA31    OPPOA33 OPPOFind 5   \n",
       "group                                                                         \n",
       "F23-        8.415842   5.806452  12.903226   9.963100   9.734513   8.196721   \n",
       "F24-26      6.435644   1.935484   4.032258   7.380074   6.194690  10.655738   \n",
       "F27-28      1.485149        NaN   4.838710   3.690037   4.424779   3.688525   \n",
       "F29-32      4.455446   7.096774   4.032258   9.225092  10.619469   5.327869   \n",
       "F33-42      6.930693   1.935484   9.677419   7.380074   6.194690   7.377049   \n",
       "F43+        3.465347  11.612903   4.032258   2.583026   7.964602   6.967213   \n",
       "M22-       15.346535   9.032258  16.129032  13.653137  13.274336   6.967213   \n",
       "M23-26     11.386139  19.354839  11.290323   9.963100   7.964602  13.114754   \n",
       "M27-28      3.960396   7.096774   6.451613   5.904059   6.194690   8.196721   \n",
       "M29-31     11.386139  15.483871   7.258065  12.546125   8.849558  13.114754   \n",
       "M32-38     16.336634  12.258065   9.677419  11.070111   8.849558   9.016393   \n",
       "M39+       10.396040   8.387097   9.677419   6.642066   9.734513   7.377049   \n",
       "\n",
       "                                                       ...                 \\\n",
       "combo  OPPOFind 7 OPPON1 Mini    OPPON1T     OPPOR1    ...          魅族MX2   \n",
       "group                                                  ...                  \n",
       "F23-     7.831325   26.623377   8.849558  14.754098    ...       4.851752   \n",
       "F24-26   3.012048   14.935065  11.504425   5.737705    ...       8.625337   \n",
       "F27-28   4.518072   10.389610   3.539823   2.459016    ...       3.504043   \n",
       "F29-32   5.120482    6.493506  11.504425   2.459016    ...       4.851752   \n",
       "F33-42   7.228916    7.792208  11.504425   9.016393    ...       3.234501   \n",
       "F43+     3.915663    1.948052   3.539823   1.639344    ...       4.043127   \n",
       "M22-    12.048193    7.792208   2.654867   9.836066    ...       9.703504   \n",
       "M23-26  13.855422    8.441558  15.929204  11.475410    ...      25.336927   \n",
       "M27-28   6.626506    4.545455   6.194690  11.475410    ...      11.320755   \n",
       "M29-31  11.445783    3.896104   6.194690  12.295082    ...       9.973046   \n",
       "M32-38  12.349398    3.896104   9.734513   9.016393    ...       8.894879   \n",
       "M39+    12.048193    3.246753   8.849558   9.836066    ...       5.660377   \n",
       "\n",
       "                                                                        \\\n",
       "combo       魅族MX3      魅族MX4  魅族MX4 Pro      魅族MX5       魅族魅蓝    魅族魅蓝2   \n",
       "group                                                                    \n",
       "F23-     7.079646   5.891720   4.430380   7.648725  12.707182   8.1250   \n",
       "F24-26   7.374631   4.140127   5.379747   3.682720   4.972376   7.1875   \n",
       "F27-28   3.982301   4.617834   3.481013   2.266289   1.657459   2.8125   \n",
       "F29-32   5.014749   3.821656   1.582278   3.682720   4.972376   3.7500   \n",
       "F33-42   4.719764   3.503185   3.164557   2.266289   4.419890   5.0000   \n",
       "F43+     3.244838   3.821656   1.265823   1.983003   4.419890   4.0625   \n",
       "M22-    16.519174  17.515924  18.670886  25.779037  16.022099  18.7500   \n",
       "M23-26  22.713864  20.063694  20.569620  22.379603  22.099448  17.5000   \n",
       "M27-28   8.849558   9.076433  14.556962   8.215297   9.392265   7.1875   \n",
       "M29-31   8.554572  11.305732  11.392405  10.481586   7.182320  10.6250   \n",
       "M32-38   7.374631   8.121019   9.177215   7.648725   5.524862   8.1250   \n",
       "M39+     4.572271   8.121019   6.329114   3.966006   6.629834   6.8750   \n",
       "\n",
       "                                         \n",
       "combo    魅族魅蓝NOTE 魅族魅蓝Note 2  魅族魅蓝metal  \n",
       "group                                    \n",
       "F23-     7.117438   8.321377   5.612245  \n",
       "F24-26   4.626335   5.595409   4.081633  \n",
       "F27-28   5.219454   4.017217   2.551020  \n",
       "F29-32   4.389087   5.882353   3.571429  \n",
       "F33-42   4.033215   3.730273   4.081633  \n",
       "F43+     3.321471   4.017217   2.551020  \n",
       "M22-    18.386714  18.364419  16.836735  \n",
       "M23-26  16.963227  15.925395  25.510204  \n",
       "M27-28   7.591934   9.182209  12.244898  \n",
       "M29-31   8.659549   9.325681   8.673469  \n",
       "M32-38  12.811388  10.329986  10.714286  \n",
       "M39+     6.880190   5.308465   3.571429  \n",
       "\n",
       "[12 rows x 137 columns]"
      ]
     },
     "execution_count": 17,
     "metadata": {},
     "output_type": "execute_result"
    }
   ],
   "source": [
    "phonegrouppctstable = phonegrouppcts.reset_index().pivot(index='group', columns='combo')\n",
    "phonegrouppctstable"
   ]
  },
  {
   "cell_type": "code",
   "execution_count": null,
   "metadata": {
    "collapsed": true
   },
   "outputs": [],
   "source": []
  }
 ],
 "metadata": {
  "anaconda-cloud": {},
  "kernelspec": {
   "display_name": "Python [conda root]",
   "language": "python",
   "name": "conda-root-py"
  },
  "language_info": {
   "codemirror_mode": {
    "name": "ipython",
    "version": 3
   },
   "file_extension": ".py",
   "mimetype": "text/x-python",
   "name": "python",
   "nbconvert_exporter": "python",
   "pygments_lexer": "ipython3",
   "version": "3.5.2"
  }
 },
 "nbformat": 4,
 "nbformat_minor": 0
}
