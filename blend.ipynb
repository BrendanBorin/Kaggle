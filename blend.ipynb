{
 "cells": [
  {
   "cell_type": "code",
   "execution_count": 1,
   "metadata": {
    "collapsed": true
   },
   "outputs": [],
   "source": [
    "import numpy as np\n",
    "import pandas as pd"
   ]
  },
  {
   "cell_type": "code",
   "execution_count": 12,
   "metadata": {
    "collapsed": false
   },
   "outputs": [],
   "source": [
    "xgb6 = pd.read_csv('xgb6.csv', index_col='device_id')\n",
    "xgb8 = pd.read_csv('xgb8.csv', index_col='device_id')\n",
    "xgb10 = pd.read_csv('xgb10_3.csv', index_col='device_id')"
   ]
  },
  {
   "cell_type": "code",
   "execution_count": 3,
   "metadata": {
    "collapsed": true
   },
   "outputs": [],
   "source": [
    "blend = np.mean?"
   ]
  },
  {
   "cell_type": "code",
   "execution_count": 13,
   "metadata": {
    "collapsed": true
   },
   "outputs": [],
   "source": [
    "blend = (xgb6 + xgb8 + xgb10) / 3"
   ]
  },
  {
   "cell_type": "code",
   "execution_count": 14,
   "metadata": {
    "collapsed": false
   },
   "outputs": [
    {
     "data": {
      "text/html": [
       "<div>\n",
       "<table border=\"1\" class=\"dataframe\">\n",
       "  <thead>\n",
       "    <tr style=\"text-align: right;\">\n",
       "      <th></th>\n",
       "      <th>F23-</th>\n",
       "      <th>F24-26</th>\n",
       "      <th>F27-28</th>\n",
       "      <th>F29-32</th>\n",
       "      <th>F33-42</th>\n",
       "      <th>F43+</th>\n",
       "      <th>M22-</th>\n",
       "      <th>M23-26</th>\n",
       "      <th>M27-28</th>\n",
       "      <th>M29-31</th>\n",
       "      <th>M32-38</th>\n",
       "      <th>M39+</th>\n",
       "    </tr>\n",
       "    <tr>\n",
       "      <th>device_id</th>\n",
       "      <th></th>\n",
       "      <th></th>\n",
       "      <th></th>\n",
       "      <th></th>\n",
       "      <th></th>\n",
       "      <th></th>\n",
       "      <th></th>\n",
       "      <th></th>\n",
       "      <th></th>\n",
       "      <th></th>\n",
       "      <th></th>\n",
       "      <th></th>\n",
       "    </tr>\n",
       "  </thead>\n",
       "  <tbody>\n",
       "    <tr>\n",
       "      <th>1002079943728939269</th>\n",
       "      <td>0.000090</td>\n",
       "      <td>0.000042</td>\n",
       "      <td>0.000158</td>\n",
       "      <td>0.000171</td>\n",
       "      <td>0.000302</td>\n",
       "      <td>0.001050</td>\n",
       "      <td>0.000109</td>\n",
       "      <td>0.002401</td>\n",
       "      <td>0.001731</td>\n",
       "      <td>0.012437</td>\n",
       "      <td>0.967282</td>\n",
       "      <td>0.014228</td>\n",
       "    </tr>\n",
       "    <tr>\n",
       "      <th>-1547860181818787117</th>\n",
       "      <td>0.003075</td>\n",
       "      <td>0.003800</td>\n",
       "      <td>0.005790</td>\n",
       "      <td>0.004002</td>\n",
       "      <td>0.020967</td>\n",
       "      <td>0.026936</td>\n",
       "      <td>0.003153</td>\n",
       "      <td>0.017073</td>\n",
       "      <td>0.046751</td>\n",
       "      <td>0.333441</td>\n",
       "      <td>0.414840</td>\n",
       "      <td>0.120173</td>\n",
       "    </tr>\n",
       "    <tr>\n",
       "      <th>7374582448058474277</th>\n",
       "      <td>0.014194</td>\n",
       "      <td>0.014343</td>\n",
       "      <td>0.015125</td>\n",
       "      <td>0.024854</td>\n",
       "      <td>0.102130</td>\n",
       "      <td>0.013696</td>\n",
       "      <td>0.017951</td>\n",
       "      <td>0.013885</td>\n",
       "      <td>0.040164</td>\n",
       "      <td>0.196002</td>\n",
       "      <td>0.459825</td>\n",
       "      <td>0.087831</td>\n",
       "    </tr>\n",
       "    <tr>\n",
       "      <th>-6220210354783429585</th>\n",
       "      <td>0.001524</td>\n",
       "      <td>0.010671</td>\n",
       "      <td>0.006150</td>\n",
       "      <td>0.002596</td>\n",
       "      <td>0.058774</td>\n",
       "      <td>0.023189</td>\n",
       "      <td>0.017279</td>\n",
       "      <td>0.060969</td>\n",
       "      <td>0.030190</td>\n",
       "      <td>0.275928</td>\n",
       "      <td>0.250615</td>\n",
       "      <td>0.262115</td>\n",
       "    </tr>\n",
       "    <tr>\n",
       "      <th>-5893464122623104785</th>\n",
       "      <td>0.009110</td>\n",
       "      <td>0.013106</td>\n",
       "      <td>0.030245</td>\n",
       "      <td>0.007189</td>\n",
       "      <td>0.047631</td>\n",
       "      <td>0.008575</td>\n",
       "      <td>0.016687</td>\n",
       "      <td>0.055517</td>\n",
       "      <td>0.042275</td>\n",
       "      <td>0.260301</td>\n",
       "      <td>0.460718</td>\n",
       "      <td>0.048647</td>\n",
       "    </tr>\n",
       "  </tbody>\n",
       "</table>\n",
       "</div>"
      ],
      "text/plain": [
       "                          F23-    F24-26    F27-28    F29-32    F33-42  \\\n",
       "device_id                                                                \n",
       " 1002079943728939269  0.000090  0.000042  0.000158  0.000171  0.000302   \n",
       "-1547860181818787117  0.003075  0.003800  0.005790  0.004002  0.020967   \n",
       " 7374582448058474277  0.014194  0.014343  0.015125  0.024854  0.102130   \n",
       "-6220210354783429585  0.001524  0.010671  0.006150  0.002596  0.058774   \n",
       "-5893464122623104785  0.009110  0.013106  0.030245  0.007189  0.047631   \n",
       "\n",
       "                          F43+      M22-    M23-26    M27-28    M29-31  \\\n",
       "device_id                                                                \n",
       " 1002079943728939269  0.001050  0.000109  0.002401  0.001731  0.012437   \n",
       "-1547860181818787117  0.026936  0.003153  0.017073  0.046751  0.333441   \n",
       " 7374582448058474277  0.013696  0.017951  0.013885  0.040164  0.196002   \n",
       "-6220210354783429585  0.023189  0.017279  0.060969  0.030190  0.275928   \n",
       "-5893464122623104785  0.008575  0.016687  0.055517  0.042275  0.260301   \n",
       "\n",
       "                        M32-38      M39+  \n",
       "device_id                                 \n",
       " 1002079943728939269  0.967282  0.014228  \n",
       "-1547860181818787117  0.414840  0.120173  \n",
       " 7374582448058474277  0.459825  0.087831  \n",
       "-6220210354783429585  0.250615  0.262115  \n",
       "-5893464122623104785  0.460718  0.048647  "
      ]
     },
     "execution_count": 14,
     "metadata": {},
     "output_type": "execute_result"
    }
   ],
   "source": [
    "blend.head()"
   ]
  },
  {
   "cell_type": "code",
   "execution_count": 15,
   "metadata": {
    "collapsed": true
   },
   "outputs": [],
   "source": [
    "blend.to_csv('blend.csv', index=True)"
   ]
  },
  {
   "cell_type": "code",
   "execution_count": 11,
   "metadata": {
    "collapsed": false
   },
   "outputs": [
    {
     "data": {
      "text/plain": [
       "device_id    float64\n",
       "F23-         float64\n",
       "F24-26       float64\n",
       "F27-28       float64\n",
       "F29-32       float64\n",
       "F33-42       float64\n",
       "F43+         float64\n",
       "M22-         float64\n",
       "M23-26       float64\n",
       "M27-28       float64\n",
       "M29-31       float64\n",
       "M32-38       float64\n",
       "M39+         float64\n",
       "dtype: object"
      ]
     },
     "execution_count": 11,
     "metadata": {},
     "output_type": "execute_result"
    }
   ],
   "source": [
    "blend.dtypes"
   ]
  }
 ],
 "metadata": {
  "anaconda-cloud": {},
  "kernelspec": {
   "display_name": "Python [Root]",
   "language": "python",
   "name": "Python [Root]"
  },
  "language_info": {
   "codemirror_mode": {
    "name": "ipython",
    "version": 3
   },
   "file_extension": ".py",
   "mimetype": "text/x-python",
   "name": "python",
   "nbconvert_exporter": "python",
   "pygments_lexer": "ipython3",
   "version": "3.5.2"
  }
 },
 "nbformat": 4,
 "nbformat_minor": 0
}
