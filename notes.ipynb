{
 "cells": [
  {
   "cell_type": "markdown",
   "metadata": {},
   "source": [
    "# Train file\n",
    "Train file contains sex, age, group.  Group is a combination of sex, age, but with age binned.  Might be interesting to try to predict age as a regression problem before binning.  \n",
    "\n",
    "There are many more males than females.  \n",
    "\n",
    "# App events\n",
    "Probably can ignore is_installed column - all values appear to be 1  \n",
    "\n",
    "There are 1488096 event id's, occurring 1-303 times  \n",
    "There are 19237 app id's, occurring 1-1151391 times\n",
    "\n",
    "There is no device_id column, so it cannot be directly merged into train file\n",
    "\n",
    "It can be merged into events - a list of apps for each event can be made.  \n",
    "Check to see if apps fall preferentially into certain categories\n",
    "\n",
    "There are many thousands of apps that appear more than 1000 times.  May be better to include all in a sparse matrix.\n",
    "\n",
    "# App labels\n",
    "There are 113211 app id's, but only 507 app labels  \n",
    "\n",
    "Some apps have multiple labels\n",
    "\n",
    "There is no device_id column, so it cannot be directly merged into train file  \n",
    "\n",
    "# Events\n",
    "Events contain device_id, but many lines per id in many cases.\n",
    "\n",
    "Only a total of 60865 different device_ids.  Not all ids are represented.\n",
    "\n",
    "Contains timestamp, lon, lat.\n",
    "\n",
    "Events range over approximately 1 week.\n",
    "\n",
    "Cannot merge directly, but must aggregate data first.\n",
    "\n",
    "Possible features:  \n",
    "1) activity in certain hours of day or day of week  \n",
    "2) range of active hours  \n",
    "3) activity in certain locations  \n",
    "4) geographic range of activity  \n",
    "5) total # of events  \n",
    "\n",
    "Maybe divide location into grids and see if there are certain groups that are more prevalent.\n",
    "\n",
    "Maybe try nearest neighbor approach for each event.\n",
    "\n",
    "# Categories\n",
    "Simply provides text description for label_id, which is probably the same as in App Labels\n",
    "\n",
    "Maybe there is a way to bin categories (e.g. game, etc.)\n",
    "\n",
    "# Phone\n",
    "Provides phone brand and model for each device id.  Can directly merge into train and test.\n",
    "\n",
    "529 device_ids are exactly repeated - need to remove or it will make train and test files too big.\n",
    "\n",
    "Probably should convert all low counts models and devices to other before one-hot encoding?\n",
    "\n",
    "Percentages in different demographic groups varies by phone, so it is probably worth including the variable.\n",
    "\n",
    "# From forums\n",
    "Lon, Lat are most important features in gradient boosting!\n"
   ]
  },
  {
   "cell_type": "code",
   "execution_count": null,
   "metadata": {
    "collapsed": true
   },
   "outputs": [],
   "source": []
  }
 ],
 "metadata": {
  "anaconda-cloud": {},
  "kernelspec": {
   "display_name": "Python [conda root]",
   "language": "python",
   "name": "conda-root-py"
  },
  "language_info": {
   "codemirror_mode": {
    "name": "ipython",
    "version": 3
   },
   "file_extension": ".py",
   "mimetype": "text/x-python",
   "name": "python",
   "nbconvert_exporter": "python",
   "pygments_lexer": "ipython3",
   "version": "3.5.2"
  }
 },
 "nbformat": 4,
 "nbformat_minor": 0
}
